{
 "cells": [
  {
   "cell_type": "markdown",
   "id": "791b3c30",
   "metadata": {},
   "source": [
    "## Day Objectives\n",
    "\n",
    "- Types of Arguments\n",
    "- Data Structures\n",
    "    - List\n",
    "    - Tuple\n",
    "    - Set\n",
    "    - Dictionary\n",
    "- Packages and Modules\n",
    "- Iterators and Generators"
   ]
  },
  {
   "cell_type": "markdown",
   "id": "d3d79f7e",
   "metadata": {},
   "source": [
    "## Types of Arguments\n",
    "\n",
    "- We are able to call function by these arguments\n",
    "- 1. Required Arguments\n",
    "    - Arguments passes to function in correct positional order\n",
    "    - Number of arguments in function call should match exactly with function definition.\n",
    "- 2. Keyword Arguments\n",
    "    - Identifies the arguments by parameter name\n",
    "- 3. Default Arguments\n",
    "    - Assumes default value if value is not specified in function call\n",
    "- 4. Variable length arguments\n",
    "    - Process a function for more arguments than you specified while defining the function"
   ]
  },
  {
   "cell_type": "code",
   "execution_count": 3,
   "id": "5b3164ee",
   "metadata": {},
   "outputs": [
    {
     "name": "stdout",
     "output_type": "stream",
     "text": [
      "Welcome to python workshop APSSDC\n"
     ]
    }
   ],
   "source": [
    "## Required arguments\n",
    "\n",
    "def message(name): ## funtion definition\n",
    "    print('Welcome to python workshop',name)\n",
    "message('APSSDC') ## function calling\n",
    "\n"
   ]
  },
  {
   "cell_type": "code",
   "execution_count": 4,
   "id": "f0fc329d",
   "metadata": {},
   "outputs": [
    {
     "name": "stdout",
     "output_type": "stream",
     "text": [
      "123\n",
      "ECE\n"
     ]
    }
   ],
   "source": [
    "# Keyword Arguments\n",
    "\n",
    "def details(number,branch):\n",
    "    print(number)\n",
    "    print(branch)\n",
    "    \n",
    "details(branch = 'ECE', number = 123)\n",
    "    "
   ]
  },
  {
   "cell_type": "code",
   "execution_count": 5,
   "id": "5f068e06",
   "metadata": {},
   "outputs": [
    {
     "name": "stdout",
     "output_type": "stream",
     "text": [
      "123\n",
      "ECE\n"
     ]
    }
   ],
   "source": [
    "## Default Arguments\n",
    "\n",
    "def details(number, branch = 'ECE'):\n",
    "    print(number)\n",
    "    print(branch)\n",
    "details(123)"
   ]
  },
  {
   "cell_type": "code",
   "execution_count": 7,
   "id": "ae5db8b8",
   "metadata": {},
   "outputs": [
    {
     "name": "stdout",
     "output_type": "stream",
     "text": [
      "2\n",
      "hi , good morning , have , a , nice , day , 34 , 6.4 , "
     ]
    }
   ],
   "source": [
    "## variable length arguments\n",
    "\n",
    "\n",
    "def  funv(n,*args):\n",
    "    print(n)\n",
    "    for i in args:\n",
    "        print(i,end=' , ')\n",
    "funv(2,'hi','good morning','have','a','nice','day',34,6.4)"
   ]
  },
  {
   "cell_type": "code",
   "execution_count": null,
   "id": "c8d3f833",
   "metadata": {},
   "outputs": [],
   "source": []
  },
  {
   "cell_type": "code",
   "execution_count": null,
   "id": "6b9e67f5",
   "metadata": {},
   "outputs": [],
   "source": []
  },
  {
   "cell_type": "code",
   "execution_count": null,
   "id": "14a030eb",
   "metadata": {},
   "outputs": [],
   "source": []
  },
  {
   "cell_type": "code",
   "execution_count": null,
   "id": "8977ebe2",
   "metadata": {},
   "outputs": [],
   "source": []
  },
  {
   "cell_type": "code",
   "execution_count": null,
   "id": "2619c7eb",
   "metadata": {},
   "outputs": [],
   "source": []
  },
  {
   "cell_type": "code",
   "execution_count": null,
   "id": "2a693247",
   "metadata": {},
   "outputs": [],
   "source": []
  },
  {
   "cell_type": "markdown",
   "id": "d0c450d3",
   "metadata": {},
   "source": [
    "## Data Structures\n",
    "\n",
    "- Data Structures are the way of storing and  organizing data\n",
    "- Data is nothing but information\n",
    "- The main use of data sturctures is we can access data and we can workout on the data effciently\n",
    "- Types of Data Structures\n",
    "    - 1. List\n",
    "    - 2. Tuple\n",
    "    - 3. Set\n",
    "    - 4. Dictionary"
   ]
  },
  {
   "cell_type": "markdown",
   "id": "4aacead9",
   "metadata": {},
   "source": [
    "## List\n",
    "\n",
    "- Colletion of Hetrogenous data\n",
    "- Ordered and mutable\n",
    "    - Order --- Indexing\n",
    "    - Mutable (We can modify data after once we defined list)\n",
    "- Indexing and Slicing are included\n",
    "- We are representing list by []\n",
    "- Allows duplicate elements or items"
   ]
  },
  {
   "cell_type": "code",
   "execution_count": 9,
   "id": "7607a8d4",
   "metadata": {},
   "outputs": [
    {
     "data": {
      "text/plain": [
       "[123, 'Sumathi', 9.54, 123]"
      ]
     },
     "execution_count": 9,
     "metadata": {},
     "output_type": "execute_result"
    }
   ],
   "source": [
    "## list\n",
    "\n",
    "li = [123,'Sumathi',9.54,123]\n",
    "li"
   ]
  },
  {
   "cell_type": "code",
   "execution_count": 10,
   "id": "1e242149",
   "metadata": {},
   "outputs": [],
   "source": [
    "## Empty list\n",
    "\n",
    "li1 = []\n"
   ]
  },
  {
   "cell_type": "code",
   "execution_count": 12,
   "id": "33f6e64e",
   "metadata": {},
   "outputs": [],
   "source": [
    "li2 = [1,3,6,89,34]"
   ]
  },
  {
   "cell_type": "code",
   "execution_count": 15,
   "id": "d3891b0f",
   "metadata": {},
   "outputs": [
    {
     "name": "stdout",
     "output_type": "stream",
     "text": [
      "Type <class 'list'>\n",
      "Length 4\n",
      "Minimum value:  1\n",
      "Maximum value:  89\n",
      "Sum value:  133\n",
      "Sorted list:  [1, 3, 6, 34, 89]\n",
      "Sorted in reverse:  [89, 34, 6, 3, 1]\n"
     ]
    }
   ],
   "source": [
    "## built-in functions\n",
    "\n",
    "print('Type', type(li))\n",
    "print('Length', len(li))\n",
    "print('Minimum value: ',min(li2))\n",
    "print('Maximum value: ', max(li2))\n",
    "print('Sum value: ', sum(li2))\n",
    "print('Sorted list: ', sorted(li2))\n",
    "print('Sorted in reverse: ',sorted(li2,reverse=True))"
   ]
  },
  {
   "cell_type": "code",
   "execution_count": 17,
   "id": "9c08dd54",
   "metadata": {},
   "outputs": [
    {
     "name": "stdout",
     "output_type": "stream",
     "text": [
      "3\n",
      "56\n"
     ]
    }
   ],
   "source": [
    "# Indexing\n",
    "## Syntax: list_variable[interger/position]\n",
    "\n",
    "list1 = [2,'a',3,8,56,'know',5.34]\n",
    "\n",
    "print(list1[2]) ## Positive index \n",
    "\n",
    "print(list1[-3]) ## Negative index \n",
    "\n",
    "\n"
   ]
  },
  {
   "cell_type": "code",
   "execution_count": 25,
   "id": "665ea445",
   "metadata": {},
   "outputs": [
    {
     "name": "stdout",
     "output_type": "stream",
     "text": [
      "['a', 3, 8, 56]\n",
      "[2, 'a', 3, 8, 56, 'know', 5.34]\n",
      "[5.34, 'know', 56, 8]\n",
      "[5.34, 'know', 56, 8, 3, 'a', 2]\n"
     ]
    }
   ],
   "source": [
    "## Slicing\n",
    "## Syntax: list_variable[start : end : step]\n",
    "\n",
    "list1\n",
    "print(list1[1 : 5 : 1] ) ## Positive Slicing\n",
    "\n",
    "print(list1[ : : ]) ## Total list \n",
    "\n",
    "print(list1[-1:-5:-1]) ## Negative Slicing\n",
    "\n",
    "print(list1[::-1])  ## Reverse list\n"
   ]
  },
  {
   "cell_type": "code",
   "execution_count": 27,
   "id": "dde84670",
   "metadata": {},
   "outputs": [
    {
     "name": "stdout",
     "output_type": "stream",
     "text": [
      "[3, 6, 'Nandini', 'Swathi']\n",
      "[3, 6, 3, 6, 3, 6]\n"
     ]
    }
   ],
   "source": [
    "## List object operators\n",
    "## '+' concatination of lists\n",
    "## '*' repetition of list\n",
    "\n",
    "li1 = [3,6]\n",
    "li2 = ['Nandini','Swathi']\n",
    "print(li1 + li2)\n",
    "print(li1 * 3)"
   ]
  },
  {
   "cell_type": "code",
   "execution_count": 30,
   "id": "74657afe",
   "metadata": {},
   "outputs": [
    {
     "name": "stdout",
     "output_type": "stream",
     "text": [
      "[2, 'a', 3, 8, 56, 'know', 5.34]\n",
      "2\n",
      "a\n",
      "3\n",
      "8\n",
      "56\n",
      "know\n",
      "5.34\n"
     ]
    }
   ],
   "source": [
    "## looping to list\n",
    "\n",
    "print(list1)\n",
    "for i in list1:\n",
    "    print(i)"
   ]
  },
  {
   "cell_type": "code",
   "execution_count": 31,
   "id": "326ff5b6",
   "metadata": {},
   "outputs": [
    {
     "data": {
      "text/plain": [
       "12"
      ]
     },
     "execution_count": 31,
     "metadata": {},
     "output_type": "execute_result"
    }
   ],
   "source": [
    "li = [3,4,5]\n",
    "sum(li)"
   ]
  },
  {
   "cell_type": "code",
   "execution_count": 32,
   "id": "bde7bb50",
   "metadata": {},
   "outputs": [
    {
     "name": "stdout",
     "output_type": "stream",
     "text": [
      "12\n"
     ]
    }
   ],
   "source": [
    "## Without using predefined function\n",
    "\n",
    "s = 0\n",
    "for i in li: ## i = 3// i=4 // i=5\n",
    "    s += i\n",
    "print(s)\n",
    "    \n",
    "    "
   ]
  },
  {
   "cell_type": "code",
   "execution_count": 33,
   "id": "e2523f7b",
   "metadata": {},
   "outputs": [
    {
     "name": "stdout",
     "output_type": "stream",
     "text": [
      "['__add__', '__class__', '__contains__', '__delattr__', '__delitem__', '__dir__', '__doc__', '__eq__', '__format__', '__ge__', '__getattribute__', '__getitem__', '__gt__', '__hash__', '__iadd__', '__imul__', '__init__', '__init_subclass__', '__iter__', '__le__', '__len__', '__lt__', '__mul__', '__ne__', '__new__', '__reduce__', '__reduce_ex__', '__repr__', '__reversed__', '__rmul__', '__setattr__', '__setitem__', '__sizeof__', '__str__', '__subclasshook__', 'append', 'clear', 'copy', 'count', 'extend', 'index', 'insert', 'pop', 'remove', 'reverse', 'sort'] "
     ]
    }
   ],
   "source": [
    "## List methods\n",
    "\n",
    "print(dir(list),end=' ')"
   ]
  },
  {
   "cell_type": "code",
   "execution_count": 34,
   "id": "18d1c76a",
   "metadata": {},
   "outputs": [
    {
     "data": {
      "text/plain": [
       "[6, 7, 8, 'name']"
      ]
     },
     "execution_count": 34,
     "metadata": {},
     "output_type": "execute_result"
    }
   ],
   "source": [
    "li = [6,7,8]\n",
    "li.append('name')\n",
    "li"
   ]
  },
  {
   "cell_type": "code",
   "execution_count": 35,
   "id": "d1d36b41",
   "metadata": {},
   "outputs": [
    {
     "data": {
      "text/plain": [
       "[6, 7, 8, 'name']"
      ]
     },
     "execution_count": 35,
     "metadata": {},
     "output_type": "execute_result"
    }
   ],
   "source": [
    "li"
   ]
  },
  {
   "cell_type": "code",
   "execution_count": 36,
   "id": "485a146e",
   "metadata": {},
   "outputs": [
    {
     "data": {
      "text/plain": [
       "[]"
      ]
     },
     "execution_count": 36,
     "metadata": {},
     "output_type": "execute_result"
    }
   ],
   "source": [
    "li.clear()\n",
    "li"
   ]
  },
  {
   "cell_type": "code",
   "execution_count": 37,
   "id": "53722390",
   "metadata": {},
   "outputs": [],
   "source": [
    "del li"
   ]
  },
  {
   "cell_type": "code",
   "execution_count": 38,
   "id": "0a74a4e1",
   "metadata": {},
   "outputs": [
    {
     "ename": "NameError",
     "evalue": "name 'li' is not defined",
     "output_type": "error",
     "traceback": [
      "\u001b[1;31m---------------------------------------------------------------------------\u001b[0m",
      "\u001b[1;31mNameError\u001b[0m                                 Traceback (most recent call last)",
      "\u001b[1;32m<ipython-input-38-3fab4c9c2cf3>\u001b[0m in \u001b[0;36m<module>\u001b[1;34m\u001b[0m\n\u001b[1;32m----> 1\u001b[1;33m \u001b[0mli\u001b[0m\u001b[1;33m\u001b[0m\u001b[1;33m\u001b[0m\u001b[0m\n\u001b[0m",
      "\u001b[1;31mNameError\u001b[0m: name 'li' is not defined"
     ]
    }
   ],
   "source": [
    "li"
   ]
  },
  {
   "cell_type": "code",
   "execution_count": 45,
   "id": "efdfdbcb",
   "metadata": {},
   "outputs": [
    {
     "data": {
      "text/plain": [
       "[8, 9]"
      ]
     },
     "execution_count": 45,
     "metadata": {},
     "output_type": "execute_result"
    }
   ],
   "source": [
    "li1 = [8,9]\n",
    "li2 = li1.copy()\n",
    "li2"
   ]
  },
  {
   "cell_type": "code",
   "execution_count": 47,
   "id": "28cee097",
   "metadata": {},
   "outputs": [
    {
     "data": {
      "text/plain": [
       "1"
      ]
     },
     "execution_count": 47,
     "metadata": {},
     "output_type": "execute_result"
    }
   ],
   "source": [
    "n = [2,2,4,7,8.6,'string']\n",
    "n.count(2)\n",
    "n.count(7)"
   ]
  },
  {
   "cell_type": "code",
   "execution_count": 51,
   "id": "6b35f1aa",
   "metadata": {},
   "outputs": [
    {
     "name": "stdout",
     "output_type": "stream",
     "text": [
      "[1, 2, 3, 4, 5, 6, 7, 8]\n",
      "[5, 6, 7, 8]\n",
      "[5, 6, 7, 8, 1, 2, 3, 4, 5, 6, 7, 8]\n"
     ]
    }
   ],
   "source": [
    "l = [1,2,3,4]\n",
    "h = [5,6,7,8]\n",
    "l.extend(h)  ## l = [1, 2, 3, 4, 5, 6, 7, 8]\n",
    "print(l)\n",
    "print(h)\n",
    "h.extend(l)\n",
    "print(h) "
   ]
  },
  {
   "cell_type": "code",
   "execution_count": 52,
   "id": "1c4dca40",
   "metadata": {},
   "outputs": [
    {
     "data": {
      "text/plain": [
       "[1, 2, 3, 4, 5, 6, 7, 8]"
      ]
     },
     "execution_count": 52,
     "metadata": {},
     "output_type": "execute_result"
    }
   ],
   "source": [
    "l"
   ]
  },
  {
   "cell_type": "code",
   "execution_count": 53,
   "id": "6742c357",
   "metadata": {},
   "outputs": [
    {
     "data": {
      "text/plain": [
       "7"
      ]
     },
     "execution_count": 53,
     "metadata": {},
     "output_type": "execute_result"
    }
   ],
   "source": [
    "l.index(8)"
   ]
  },
  {
   "cell_type": "code",
   "execution_count": 55,
   "id": "050b1a23",
   "metadata": {},
   "outputs": [
    {
     "data": {
      "text/plain": [
       "[1, 2, 3, 'k', 4, 5, 6, 7, 8]"
      ]
     },
     "execution_count": 55,
     "metadata": {},
     "output_type": "execute_result"
    }
   ],
   "source": [
    "l.insert(3,'k')\n",
    "l"
   ]
  },
  {
   "cell_type": "code",
   "execution_count": 56,
   "id": "bbf5f469",
   "metadata": {},
   "outputs": [
    {
     "data": {
      "text/plain": [
       "8"
      ]
     },
     "execution_count": 56,
     "metadata": {},
     "output_type": "execute_result"
    }
   ],
   "source": [
    "l.pop()"
   ]
  },
  {
   "cell_type": "code",
   "execution_count": 57,
   "id": "345f4ee2",
   "metadata": {},
   "outputs": [
    {
     "data": {
      "text/plain": [
       "[1, 2, 3, 'k', 4, 5, 6, 7]"
      ]
     },
     "execution_count": 57,
     "metadata": {},
     "output_type": "execute_result"
    }
   ],
   "source": [
    "l"
   ]
  },
  {
   "cell_type": "code",
   "execution_count": 58,
   "id": "61789aa5",
   "metadata": {},
   "outputs": [],
   "source": [
    "l.remove(5)"
   ]
  },
  {
   "cell_type": "code",
   "execution_count": 59,
   "id": "6d1ea8d3",
   "metadata": {},
   "outputs": [
    {
     "data": {
      "text/plain": [
       "[1, 2, 3, 'k', 4, 6, 7]"
      ]
     },
     "execution_count": 59,
     "metadata": {},
     "output_type": "execute_result"
    }
   ],
   "source": [
    "l"
   ]
  },
  {
   "cell_type": "code",
   "execution_count": 60,
   "id": "f0fc379b",
   "metadata": {},
   "outputs": [],
   "source": [
    "l.reverse()"
   ]
  },
  {
   "cell_type": "code",
   "execution_count": 61,
   "id": "218929b5",
   "metadata": {},
   "outputs": [
    {
     "data": {
      "text/plain": [
       "[7, 6, 4, 'k', 3, 2, 1]"
      ]
     },
     "execution_count": 61,
     "metadata": {},
     "output_type": "execute_result"
    }
   ],
   "source": [
    "l"
   ]
  },
  {
   "cell_type": "code",
   "execution_count": 64,
   "id": "9b98cfb4",
   "metadata": {},
   "outputs": [
    {
     "data": {
      "text/plain": [
       "[23, 56, 89]"
      ]
     },
     "execution_count": 64,
     "metadata": {},
     "output_type": "execute_result"
    }
   ],
   "source": [
    "l1 = [89,56,23]\n",
    "l1.sort()\n",
    "l1"
   ]
  },
  {
   "cell_type": "code",
   "execution_count": 65,
   "id": "6144ec44",
   "metadata": {},
   "outputs": [
    {
     "name": "stdout",
     "output_type": "stream",
     "text": [
      "12 - 2\n",
      "56 - 2\n",
      "89 - 1\n",
      "34 - 2\n",
      "6 - 1\n",
      "2 - 1\n",
      "12 - 2\n",
      "56 - 2\n",
      "34 - 2\n"
     ]
    }
   ],
   "source": [
    "# ## input: [12,56,89,34,6,2,12,56,34]\n",
    "# ## output: 12 - 2\n",
    "#            56 - 2\n",
    "#            89 - 1\n",
    "#            34 - 2\n",
    "#            6  - 1\n",
    "#            2  - 1\n",
    "#            12 - 2\n",
    "#            56 - 2\n",
    "#            34 - 2\n",
    "\n",
    "l = [12,56,89,34,6,2,12,56,34]\n",
    "for i in l:\n",
    "    print(i,'-',l.count(i))"
   ]
  },
  {
   "cell_type": "code",
   "execution_count": 66,
   "id": "58ce0e85",
   "metadata": {},
   "outputs": [
    {
     "data": {
      "text/plain": [
       "[89, 6, 2]"
      ]
     },
     "execution_count": 66,
     "metadata": {},
     "output_type": "execute_result"
    }
   ],
   "source": [
    "## input: [12,56,89,34,6,2,12,56,34]\n",
    "## output: [89,6,2]\n",
    "\n",
    "li = [12,56,89,34,6,2,12,56,34]\n",
    "li1 = []\n",
    "for i in li:\n",
    "    if li.count(i) == 1:\n",
    "        li1.append(i)\n",
    "li1\n",
    "        "
   ]
  },
  {
   "cell_type": "code",
   "execution_count": 71,
   "id": "88043b64",
   "metadata": {},
   "outputs": [
    {
     "data": {
      "text/plain": [
       "['abc wx', 'z rtu', '']"
      ]
     },
     "execution_count": 71,
     "metadata": {},
     "output_type": "execute_result"
    }
   ],
   "source": [
    "s = 'abc wxyz rtuy'\n",
    "s.split('y')\n",
    "    "
   ]
  },
  {
   "cell_type": "code",
   "execution_count": 72,
   "id": "f4500642",
   "metadata": {},
   "outputs": [
    {
     "name": "stdout",
     "output_type": "stream",
     "text": [
      "2 5 89 gh 7.4\n"
     ]
    },
    {
     "data": {
      "text/plain": [
       "['2', '5', '89', 'gh', '7.4']"
      ]
     },
     "execution_count": 72,
     "metadata": {},
     "output_type": "execute_result"
    }
   ],
   "source": [
    "## Dynamic way \n",
    "\n",
    "h = input().split()\n",
    "h"
   ]
  },
  {
   "cell_type": "code",
   "execution_count": 76,
   "id": "3a986bd1",
   "metadata": {},
   "outputs": [
    {
     "name": "stdout",
     "output_type": "stream",
     "text": [
      "45 87 23\n"
     ]
    },
    {
     "data": {
      "text/plain": [
       "[45, 87, 23]"
      ]
     },
     "execution_count": 76,
     "metadata": {},
     "output_type": "execute_result"
    }
   ],
   "source": [
    "y = input().split()\n",
    "res = list(map(int,y))\n",
    "res"
   ]
  },
  {
   "cell_type": "markdown",
   "id": "f1a53805",
   "metadata": {},
   "source": [
    "## Tuple\n",
    "\n",
    "- Representing tuple by ()\n",
    "- Ordered and Immutable in nature\n",
    "- Execution will take low time Compare to list\n",
    "- It allows duplicate data\n"
   ]
  },
  {
   "cell_type": "code",
   "execution_count": 77,
   "id": "18f0666a",
   "metadata": {},
   "outputs": [
    {
     "data": {
      "text/plain": [
       "(1, 'hi', 8.6)"
      ]
     },
     "execution_count": 77,
     "metadata": {},
     "output_type": "execute_result"
    }
   ],
   "source": [
    "t = (1,'hi',8.6)\n",
    "t"
   ]
  },
  {
   "cell_type": "code",
   "execution_count": 78,
   "id": "18c7bb94",
   "metadata": {},
   "outputs": [
    {
     "data": {
      "text/plain": [
       "tuple"
      ]
     },
     "execution_count": 78,
     "metadata": {},
     "output_type": "execute_result"
    }
   ],
   "source": [
    "type(t)"
   ]
  },
  {
   "cell_type": "code",
   "execution_count": 80,
   "id": "9482c3eb",
   "metadata": {},
   "outputs": [
    {
     "name": "stdout",
     "output_type": "stream",
     "text": [
      "1\n",
      "8.6\n"
     ]
    }
   ],
   "source": [
    "print(t[0])\n",
    "print(t[-1])\n"
   ]
  },
  {
   "cell_type": "code",
   "execution_count": 81,
   "id": "b283f306",
   "metadata": {},
   "outputs": [
    {
     "name": "stdout",
     "output_type": "stream",
     "text": [
      "['__add__', '__class__', '__contains__', '__delattr__', '__dir__', '__doc__', '__eq__', '__format__', '__ge__', '__getattribute__', '__getitem__', '__getnewargs__', '__gt__', '__hash__', '__init__', '__init_subclass__', '__iter__', '__le__', '__len__', '__lt__', '__mul__', '__ne__', '__new__', '__reduce__', '__reduce_ex__', '__repr__', '__rmul__', '__setattr__', '__sizeof__', '__str__', '__subclasshook__', 'count', 'index'] "
     ]
    }
   ],
   "source": [
    "print(dir(tuple),end=' ')"
   ]
  },
  {
   "cell_type": "code",
   "execution_count": 82,
   "id": "72e9a027",
   "metadata": {},
   "outputs": [
    {
     "data": {
      "text/plain": [
       "(1, 'hi', 8.6)"
      ]
     },
     "execution_count": 82,
     "metadata": {},
     "output_type": "execute_result"
    }
   ],
   "source": [
    "t"
   ]
  },
  {
   "cell_type": "code",
   "execution_count": 83,
   "id": "e9771cbf",
   "metadata": {},
   "outputs": [
    {
     "data": {
      "text/plain": [
       "1"
      ]
     },
     "execution_count": 83,
     "metadata": {},
     "output_type": "execute_result"
    }
   ],
   "source": [
    "t.count('hi')"
   ]
  },
  {
   "cell_type": "code",
   "execution_count": 85,
   "id": "ff71aae4",
   "metadata": {},
   "outputs": [
    {
     "data": {
      "text/plain": [
       "2"
      ]
     },
     "execution_count": 85,
     "metadata": {},
     "output_type": "execute_result"
    }
   ],
   "source": [
    "t.index(8.6)"
   ]
  },
  {
   "cell_type": "code",
   "execution_count": 88,
   "id": "fa4029bf",
   "metadata": {},
   "outputs": [
    {
     "data": {
      "text/plain": [
       "(12, 56, 89, 34, 6, 2, 12, 56)"
      ]
     },
     "execution_count": 88,
     "metadata": {},
     "output_type": "execute_result"
    }
   ],
   "source": [
    "## input: (12,56,89,34,6,2,12,56,34)\n",
    "## output: (12,56,89,34,6,2,12,56)\n",
    "\n",
    "t =  (12,56,89,34,6,2,12,56,34)\n",
    "n = list(t) ## [12,56,89,34,6,2,12,56,34]\n",
    "n.pop() ## [12,56,89,34,6,2,12,56]\n",
    "n1 = tuple(n)\n",
    "n1\n",
    "\n"
   ]
  },
  {
   "cell_type": "code",
   "execution_count": 86,
   "id": "146c8989",
   "metadata": {},
   "outputs": [
    {
     "name": "stdout",
     "output_type": "stream",
     "text": [
      "(3, 5)\n",
      "[3, 5]\n"
     ]
    }
   ],
   "source": [
    "t = (3,5)\n",
    "new = list(t) ## list(tuple)\n",
    "print(t)\n",
    "print(new)"
   ]
  },
  {
   "cell_type": "code",
   "execution_count": null,
   "id": "01a2aa1b",
   "metadata": {},
   "outputs": [],
   "source": []
  },
  {
   "cell_type": "code",
   "execution_count": null,
   "id": "66ab6d3f",
   "metadata": {},
   "outputs": [],
   "source": []
  },
  {
   "cell_type": "code",
   "execution_count": null,
   "id": "fd4fde91",
   "metadata": {},
   "outputs": [],
   "source": []
  },
  {
   "cell_type": "code",
   "execution_count": 89,
   "id": "99deb003",
   "metadata": {},
   "outputs": [
    {
     "data": {
      "text/plain": [
       "['ABC', 9]"
      ]
     },
     "execution_count": 89,
     "metadata": {},
     "output_type": "execute_result"
    }
   ],
   "source": [
    "## mutable\n",
    "\n",
    "l = [7,9]\n",
    "l[0] = 'ABC'\n",
    "l"
   ]
  },
  {
   "cell_type": "code",
   "execution_count": 90,
   "id": "6bf25bc1",
   "metadata": {},
   "outputs": [
    {
     "ename": "TypeError",
     "evalue": "'tuple' object does not support item assignment",
     "output_type": "error",
     "traceback": [
      "\u001b[1;31m---------------------------------------------------------------------------\u001b[0m",
      "\u001b[1;31mTypeError\u001b[0m                                 Traceback (most recent call last)",
      "\u001b[1;32m<ipython-input-90-a8e3c99502f6>\u001b[0m in \u001b[0;36m<module>\u001b[1;34m\u001b[0m\n\u001b[0;32m      1\u001b[0m \u001b[0mt\u001b[0m \u001b[1;33m=\u001b[0m \u001b[1;33m(\u001b[0m\u001b[1;36m6\u001b[0m\u001b[1;33m,\u001b[0m\u001b[1;36m8\u001b[0m\u001b[1;33m)\u001b[0m\u001b[1;33m\u001b[0m\u001b[1;33m\u001b[0m\u001b[0m\n\u001b[1;32m----> 2\u001b[1;33m \u001b[0mt\u001b[0m\u001b[1;33m[\u001b[0m\u001b[1;36m0\u001b[0m\u001b[1;33m]\u001b[0m \u001b[1;33m=\u001b[0m \u001b[1;34m'dsfjk'\u001b[0m\u001b[1;33m\u001b[0m\u001b[1;33m\u001b[0m\u001b[0m\n\u001b[0m\u001b[0;32m      3\u001b[0m \u001b[0mt\u001b[0m\u001b[1;33m\u001b[0m\u001b[1;33m\u001b[0m\u001b[0m\n",
      "\u001b[1;31mTypeError\u001b[0m: 'tuple' object does not support item assignment"
     ]
    }
   ],
   "source": [
    "t = (6,8)\n",
    "t[0] = 'dsfjk'\n",
    "t"
   ]
  },
  {
   "cell_type": "markdown",
   "id": "012b4fc6",
   "metadata": {},
   "source": [
    "## Set\n",
    "\n",
    "- Set is one of the data structures\n",
    "- Which is a collection of unordered and unindexed\n",
    "- Duplicate elements are not allowed\n",
    "- Immutable\n",
    "- Represented by {}\n",
    "- Advantage: Set will eliminate or delete duplicate elements"
   ]
  },
  {
   "cell_type": "code",
   "execution_count": 91,
   "id": "3d6f773b",
   "metadata": {},
   "outputs": [
    {
     "data": {
      "text/plain": [
       "{1, 2, 3, 9.45, 'bindu'}"
      ]
     },
     "execution_count": 91,
     "metadata": {},
     "output_type": "execute_result"
    }
   ],
   "source": [
    "## set \n",
    "\n",
    "s = {1,2,3,1,2,3,1,3,2,'bindu',9.45}\n",
    "s"
   ]
  },
  {
   "cell_type": "code",
   "execution_count": 92,
   "id": "d934bf78",
   "metadata": {},
   "outputs": [
    {
     "name": "stdout",
     "output_type": "stream",
     "text": [
      "12\n",
      "78\n",
      "270\n",
      "[12, 22, 23, 34, 45, 56, 78]\n",
      "7\n"
     ]
    }
   ],
   "source": [
    "## built-in functions\n",
    "\n",
    "s1 = {12,22,34,56,78,45,23}\n",
    "print(min(s1))\n",
    "print(max(s1))\n",
    "print(sum(s1))\n",
    "print(sorted(s1))\n",
    "print(len(s1))"
   ]
  },
  {
   "cell_type": "code",
   "execution_count": 93,
   "id": "86360b42",
   "metadata": {},
   "outputs": [
    {
     "name": "stdout",
     "output_type": "stream",
     "text": [
      "['__and__', '__class__', '__contains__', '__delattr__', '__dir__', '__doc__', '__eq__', '__format__', '__ge__', '__getattribute__', '__gt__', '__hash__', '__iand__', '__init__', '__init_subclass__', '__ior__', '__isub__', '__iter__', '__ixor__', '__le__', '__len__', '__lt__', '__ne__', '__new__', '__or__', '__rand__', '__reduce__', '__reduce_ex__', '__repr__', '__ror__', '__rsub__', '__rxor__', '__setattr__', '__sizeof__', '__str__', '__sub__', '__subclasshook__', '__xor__', 'add', 'clear', 'copy', 'difference', 'difference_update', 'discard', 'intersection', 'intersection_update', 'isdisjoint', 'issubset', 'issuperset', 'pop', 'remove', 'symmetric_difference', 'symmetric_difference_update', 'union', 'update'] "
     ]
    }
   ],
   "source": [
    "## Set methods\n",
    "\n",
    "print(dir(set),end=' ')"
   ]
  },
  {
   "cell_type": "code",
   "execution_count": 94,
   "id": "02207c62",
   "metadata": {},
   "outputs": [
    {
     "data": {
      "text/plain": [
       "{1, 2, 3, 9.45, 'bindu'}"
      ]
     },
     "execution_count": 94,
     "metadata": {},
     "output_type": "execute_result"
    }
   ],
   "source": [
    "s"
   ]
  },
  {
   "cell_type": "code",
   "execution_count": 95,
   "id": "35d90cb6",
   "metadata": {},
   "outputs": [
    {
     "data": {
      "text/plain": [
       "{1, 2, 3, 9.45, 'bindu', 'u'}"
      ]
     },
     "execution_count": 95,
     "metadata": {},
     "output_type": "execute_result"
    }
   ],
   "source": [
    "s.add('u')\n",
    "s"
   ]
  },
  {
   "cell_type": "code",
   "execution_count": 96,
   "id": "ab0191bc",
   "metadata": {},
   "outputs": [
    {
     "data": {
      "text/plain": [
       "1"
      ]
     },
     "execution_count": 96,
     "metadata": {},
     "output_type": "execute_result"
    }
   ],
   "source": [
    "s.pop()"
   ]
  },
  {
   "cell_type": "code",
   "execution_count": 97,
   "id": "8ab3ae28",
   "metadata": {},
   "outputs": [
    {
     "data": {
      "text/plain": [
       "{2, 3, 9.45, 'bindu', 'u'}"
      ]
     },
     "execution_count": 97,
     "metadata": {},
     "output_type": "execute_result"
    }
   ],
   "source": [
    "s"
   ]
  },
  {
   "cell_type": "code",
   "execution_count": 98,
   "id": "255ab470",
   "metadata": {},
   "outputs": [
    {
     "data": {
      "text/plain": [
       "2"
      ]
     },
     "execution_count": 98,
     "metadata": {},
     "output_type": "execute_result"
    }
   ],
   "source": [
    "s.pop()"
   ]
  },
  {
   "cell_type": "code",
   "execution_count": 99,
   "id": "b962117c",
   "metadata": {},
   "outputs": [],
   "source": [
    "s.remove('bindu')"
   ]
  },
  {
   "cell_type": "code",
   "execution_count": 100,
   "id": "6b29b741",
   "metadata": {},
   "outputs": [
    {
     "data": {
      "text/plain": [
       "{3, 9.45, 'u'}"
      ]
     },
     "execution_count": 100,
     "metadata": {},
     "output_type": "execute_result"
    }
   ],
   "source": [
    "s"
   ]
  },
  {
   "cell_type": "code",
   "execution_count": 101,
   "id": "a5d7c339",
   "metadata": {},
   "outputs": [],
   "source": [
    "s.discard(9.45)"
   ]
  },
  {
   "cell_type": "code",
   "execution_count": 102,
   "id": "d36600da",
   "metadata": {},
   "outputs": [
    {
     "data": {
      "text/plain": [
       "{3, 'u'}"
      ]
     },
     "execution_count": 102,
     "metadata": {},
     "output_type": "execute_result"
    }
   ],
   "source": [
    "s"
   ]
  },
  {
   "cell_type": "markdown",
   "id": "de234e42",
   "metadata": {},
   "source": [
    "- difference\n",
    "    - removes common elements in two sets\n",
    "    - it returns the unique elements in first set\n",
    "    - Syntax:\n",
    "        - set1.difference(set2)"
   ]
  },
  {
   "cell_type": "code",
   "execution_count": 104,
   "id": "f0c31223",
   "metadata": {},
   "outputs": [
    {
     "name": "stdout",
     "output_type": "stream",
     "text": [
      "{9, 3, 5}\n",
      "{4, 7}\n",
      "{1, 3, 5, 9, 10}\n",
      "{1, 10, 4, 7}\n"
     ]
    }
   ],
   "source": [
    "s1 = {10,1,5,3,9}\n",
    "s2 = {1,10,4,7}\n",
    "s3 = s1.difference(s2)\n",
    "s4 = s2.difference(s1)\n",
    "print(s3)\n",
    "print(s4)\n",
    "print(s1)\n",
    "print(s2)\n"
   ]
  },
  {
   "cell_type": "markdown",
   "id": "8c8293e6",
   "metadata": {},
   "source": [
    "- difference_update\n",
    "    - returns the new updated set after making the difference between two sets\n",
    "    - change the original set\n",
    "    - Syntax: set1.difference_update(set2)"
   ]
  },
  {
   "cell_type": "code",
   "execution_count": 108,
   "id": "1e56e99b",
   "metadata": {},
   "outputs": [],
   "source": [
    "s3 = {1,2,3,4,5}\n",
    "s4 = {1,2,78,45,32}\n",
    "s3.difference_update(s4)\n"
   ]
  },
  {
   "cell_type": "code",
   "execution_count": 109,
   "id": "2fe062d8",
   "metadata": {},
   "outputs": [
    {
     "name": "stdout",
     "output_type": "stream",
     "text": [
      "{3, 4, 5}\n",
      "{32, 1, 2, 45, 78}\n"
     ]
    }
   ],
   "source": [
    "print(s3)\n",
    "print(s4)\n"
   ]
  },
  {
   "cell_type": "code",
   "execution_count": 110,
   "id": "4cd67a43",
   "metadata": {},
   "outputs": [
    {
     "data": {
      "text/plain": [
       "{11, 12, 16, 22, 23, 56, 66, 67}"
      ]
     },
     "execution_count": 110,
     "metadata": {},
     "output_type": "execute_result"
    }
   ],
   "source": [
    "d = {23,56,12,11}\n",
    "e = {67,22,66,16,11}\n",
    "d.union(e)"
   ]
  },
  {
   "cell_type": "markdown",
   "id": "75caaed3",
   "metadata": {},
   "source": [
    "- intersection\n",
    "    - return the common elements in sets\n",
    "- intersection_update\n",
    "    - removes the elements in one set which are not present in other set\n",
    "    - return the updated set"
   ]
  },
  {
   "cell_type": "code",
   "execution_count": 113,
   "id": "35375980",
   "metadata": {},
   "outputs": [
    {
     "name": "stdout",
     "output_type": "stream",
     "text": [
      "{89, 67, 12}\n",
      "{34, 67, 75, 12, 89}\n",
      "{33, 67, 12, 77, 78, 56, 89}\n"
     ]
    }
   ],
   "source": [
    "a = {12,34,67,12,67,89,75}\n",
    "b = {12,56,78,89,33,77,67}\n",
    "res = a.intersection(b)\n",
    "print(res)\n",
    "print(a)\n",
    "print(b)"
   ]
  },
  {
   "cell_type": "code",
   "execution_count": 116,
   "id": "70288069",
   "metadata": {},
   "outputs": [
    {
     "name": "stdout",
     "output_type": "stream",
     "text": [
      "{89, 67, 12}\n",
      "{33, 67, 12, 77, 78, 56, 89}\n"
     ]
    }
   ],
   "source": [
    "a = {12,34,67,12,67,89,75}\n",
    "b = {12,56,78,89,33,77,67}\n",
    "a.intersection_update(b)\n",
    "print(a)\n",
    "print(b)"
   ]
  },
  {
   "cell_type": "markdown",
   "id": "288b19bd",
   "metadata": {},
   "source": [
    "- isdisjoint()\n",
    "    - returns True if no element in set1 matches with set2\n",
    "    - else return False\n",
    "- issubset()\n",
    "    - returns True if all elements in set1 matches with set2\n",
    "    - else return False\n",
    "- issuperset()\n",
    "    - returns True if all elements in set1 macthes with set2\n",
    "    - else return False"
   ]
  },
  {
   "cell_type": "code",
   "execution_count": 117,
   "id": "f3f92747",
   "metadata": {},
   "outputs": [
    {
     "name": "stdout",
     "output_type": "stream",
     "text": [
      "True\n",
      "False\n"
     ]
    }
   ],
   "source": [
    "a = {1,2,3,4,5}\n",
    "b = {6,7,8,9}\n",
    "c = {1,2,3,4,5}\n",
    "r1 = a.isdisjoint(b)\n",
    "r2 = a.isdisjoint(c)\n",
    "print(r1)\n",
    "print(r2)"
   ]
  },
  {
   "cell_type": "code",
   "execution_count": 118,
   "id": "b7fe4835",
   "metadata": {},
   "outputs": [
    {
     "name": "stdout",
     "output_type": "stream",
     "text": [
      "False\n",
      "True\n"
     ]
    }
   ],
   "source": [
    "a = {1,2,3,4,5,7}\n",
    "c = {1,2,3,4}\n",
    "r3 = a.issubset(c)\n",
    "r4 = c.issubset(a)\n",
    "print(r3)\n",
    "print(r4)"
   ]
  },
  {
   "cell_type": "code",
   "execution_count": null,
   "id": "29da6248",
   "metadata": {},
   "outputs": [],
   "source": []
  },
  {
   "cell_type": "code",
   "execution_count": null,
   "id": "8d8e6f5e",
   "metadata": {},
   "outputs": [],
   "source": []
  },
  {
   "cell_type": "code",
   "execution_count": null,
   "id": "0c5a1b3d",
   "metadata": {},
   "outputs": [],
   "source": []
  },
  {
   "cell_type": "code",
   "execution_count": null,
   "id": "45cbf70c",
   "metadata": {},
   "outputs": [],
   "source": []
  },
  {
   "cell_type": "markdown",
   "id": "9e6fe5f4",
   "metadata": {},
   "source": [
    "### Dicntionary\n",
    "\n",
    "- Used to store collection of data in key and value format\n",
    "- Represent by {}\n",
    "- Combination of key and value we are calling as item\n",
    "- Unordered and Unindexed\n"
   ]
  },
  {
   "cell_type": "code",
   "execution_count": 119,
   "id": "03476e0e",
   "metadata": {},
   "outputs": [
    {
     "data": {
      "text/plain": [
       "{1: 'One', 2: 'Two', 3: 'Three'}"
      ]
     },
     "execution_count": 119,
     "metadata": {},
     "output_type": "execute_result"
    }
   ],
   "source": [
    "d = {1:'One',2:'Two',3:'Three'}\n",
    "d"
   ]
  },
  {
   "cell_type": "code",
   "execution_count": 120,
   "id": "b9599378",
   "metadata": {},
   "outputs": [
    {
     "data": {
      "text/plain": [
       "'One'"
      ]
     },
     "execution_count": 120,
     "metadata": {},
     "output_type": "execute_result"
    }
   ],
   "source": [
    "d[1]"
   ]
  },
  {
   "cell_type": "code",
   "execution_count": 121,
   "id": "345385ea",
   "metadata": {},
   "outputs": [],
   "source": [
    "## Update value of item by using key\n",
    "\n",
    "d[2] = 'second'"
   ]
  },
  {
   "cell_type": "code",
   "execution_count": 122,
   "id": "8069a8bf",
   "metadata": {},
   "outputs": [
    {
     "data": {
      "text/plain": [
       "{1: 'One', 2: 'second', 3: 'Three'}"
      ]
     },
     "execution_count": 122,
     "metadata": {},
     "output_type": "execute_result"
    }
   ],
   "source": [
    "d"
   ]
  },
  {
   "cell_type": "code",
   "execution_count": 123,
   "id": "40256339",
   "metadata": {},
   "outputs": [
    {
     "name": "stdout",
     "output_type": "stream",
     "text": [
      "['__class__', '__contains__', '__delattr__', '__delitem__', '__dir__', '__doc__', '__eq__', '__format__', '__ge__', '__getattribute__', '__getitem__', '__gt__', '__hash__', '__init__', '__init_subclass__', '__iter__', '__le__', '__len__', '__lt__', '__ne__', '__new__', '__reduce__', '__reduce_ex__', '__repr__', '__reversed__', '__setattr__', '__setitem__', '__sizeof__', '__str__', '__subclasshook__', 'clear', 'copy', 'fromkeys', 'get', 'items', 'keys', 'pop', 'popitem', 'setdefault', 'update', 'values'] "
     ]
    }
   ],
   "source": [
    "print(dir(dict),end=' ')"
   ]
  },
  {
   "cell_type": "code",
   "execution_count": 126,
   "id": "e88658f9",
   "metadata": {},
   "outputs": [
    {
     "name": "stdout",
     "output_type": "stream",
     "text": [
      "{'key1': None, 'key2': None, 'key3': None}\n",
      "{'key1': 20, 'key2': 20, 'key3': 20}\n"
     ]
    }
   ],
   "source": [
    "## fromkeys\n",
    "## create a new dictionary with keys from sequence\n",
    "## Syntax: fromkeys(seq,value)\n",
    "\n",
    "k = ('key1','key2','key3')\n",
    "dic = dict.fromkeys(k)\n",
    "print(dic)\n",
    "dic1 = dict.fromkeys(k,20)\n",
    "print(dic1)"
   ]
  },
  {
   "cell_type": "code",
   "execution_count": 127,
   "id": "ae6f0723",
   "metadata": {},
   "outputs": [
    {
     "data": {
      "text/plain": [
       "dict_keys(['key1', 'key2', 'key3'])"
      ]
     },
     "execution_count": 127,
     "metadata": {},
     "output_type": "execute_result"
    }
   ],
   "source": [
    "dic1.keys()"
   ]
  },
  {
   "cell_type": "code",
   "execution_count": 128,
   "id": "b7cc60a2",
   "metadata": {},
   "outputs": [
    {
     "data": {
      "text/plain": [
       "dict_items([('key1', 20), ('key2', 20), ('key3', 20)])"
      ]
     },
     "execution_count": 128,
     "metadata": {},
     "output_type": "execute_result"
    }
   ],
   "source": [
    "dic1.items()"
   ]
  },
  {
   "cell_type": "code",
   "execution_count": 129,
   "id": "ca25c4d1",
   "metadata": {},
   "outputs": [
    {
     "data": {
      "text/plain": [
       "dict_values([20, 20, 20])"
      ]
     },
     "execution_count": 129,
     "metadata": {},
     "output_type": "execute_result"
    }
   ],
   "source": [
    "dic1.values()"
   ]
  },
  {
   "cell_type": "code",
   "execution_count": 130,
   "id": "2ecbd679",
   "metadata": {},
   "outputs": [
    {
     "name": "stdout",
     "output_type": "stream",
     "text": [
      "20\n",
      "20\n",
      "20\n"
     ]
    }
   ],
   "source": [
    "for i in dic1.values():\n",
    "    print(i)"
   ]
  },
  {
   "cell_type": "code",
   "execution_count": 132,
   "id": "96951049",
   "metadata": {},
   "outputs": [
    {
     "name": "stdout",
     "output_type": "stream",
     "text": [
      "key1\n",
      "key2\n",
      "key3\n"
     ]
    }
   ],
   "source": [
    "for i in dic1.keys():\n",
    "    print(i)"
   ]
  },
  {
   "cell_type": "code",
   "execution_count": 133,
   "id": "f2b50460",
   "metadata": {},
   "outputs": [
    {
     "name": "stdout",
     "output_type": "stream",
     "text": [
      "key1 20\n",
      "key2 20\n",
      "key3 20\n"
     ]
    }
   ],
   "source": [
    "for key,value in dic1.items():\n",
    "    print(key,value)"
   ]
  },
  {
   "cell_type": "code",
   "execution_count": 134,
   "id": "c2cd87ad",
   "metadata": {},
   "outputs": [
    {
     "data": {
      "text/plain": [
       "12345"
      ]
     },
     "execution_count": 134,
     "metadata": {},
     "output_type": "execute_result"
    }
   ],
   "source": [
    "## pop() takes a key\n",
    "\n",
    "info = {'Course':'Python','id':12345,'branch':'CSE'}\n",
    "info.pop('id')"
   ]
  },
  {
   "cell_type": "code",
   "execution_count": 135,
   "id": "3c4af90c",
   "metadata": {},
   "outputs": [
    {
     "data": {
      "text/plain": [
       "{'Course': 'Python', 'branch': 'CSE'}"
      ]
     },
     "execution_count": 135,
     "metadata": {},
     "output_type": "execute_result"
    }
   ],
   "source": [
    "info"
   ]
  },
  {
   "cell_type": "code",
   "execution_count": 136,
   "id": "c5fd00a2",
   "metadata": {},
   "outputs": [
    {
     "data": {
      "text/plain": [
       "('branch', 'CSE')"
      ]
     },
     "execution_count": 136,
     "metadata": {},
     "output_type": "execute_result"
    }
   ],
   "source": [
    "info.popitem()"
   ]
  },
  {
   "cell_type": "code",
   "execution_count": 137,
   "id": "620384fc",
   "metadata": {},
   "outputs": [
    {
     "data": {
      "text/plain": [
       "{'Course': 'Python'}"
      ]
     },
     "execution_count": 137,
     "metadata": {},
     "output_type": "execute_result"
    }
   ],
   "source": [
    "info"
   ]
  },
  {
   "cell_type": "code",
   "execution_count": 139,
   "id": "2baedad2",
   "metadata": {},
   "outputs": [],
   "source": [
    "## update\n",
    "## add new key value pair to dictionary\n",
    "\n",
    "info.update({'District':'Guntur'})\n"
   ]
  },
  {
   "cell_type": "code",
   "execution_count": 140,
   "id": "bf9d1da0",
   "metadata": {},
   "outputs": [
    {
     "data": {
      "text/plain": [
       "{'Course': 'Python', 'District': 'Guntur'}"
      ]
     },
     "execution_count": 140,
     "metadata": {},
     "output_type": "execute_result"
    }
   ],
   "source": [
    "info"
   ]
  },
  {
   "cell_type": "code",
   "execution_count": 141,
   "id": "82f01004",
   "metadata": {},
   "outputs": [],
   "source": [
    "info.update({'branch':'ECE'})"
   ]
  },
  {
   "cell_type": "code",
   "execution_count": 142,
   "id": "e8daca65",
   "metadata": {},
   "outputs": [
    {
     "data": {
      "text/plain": [
       "{'Course': 'Python', 'District': 'Guntur', 'branch': 'ECE'}"
      ]
     },
     "execution_count": 142,
     "metadata": {},
     "output_type": "execute_result"
    }
   ],
   "source": [
    "info"
   ]
  },
  {
   "cell_type": "code",
   "execution_count": 143,
   "id": "032e9236",
   "metadata": {},
   "outputs": [
    {
     "data": {
      "text/plain": [
       "'Python'"
      ]
     },
     "execution_count": 143,
     "metadata": {},
     "output_type": "execute_result"
    }
   ],
   "source": [
    "## Syntax: setdefault(key,value)\n",
    "## if key existed it returns the value\n",
    "\n",
    "info.setdefault('Course')"
   ]
  },
  {
   "cell_type": "code",
   "execution_count": 144,
   "id": "dc039400",
   "metadata": {},
   "outputs": [],
   "source": [
    "info.setdefault('year')"
   ]
  },
  {
   "cell_type": "code",
   "execution_count": 145,
   "id": "bc396e98",
   "metadata": {},
   "outputs": [
    {
     "data": {
      "text/plain": [
       "{'Course': 'Python', 'District': 'Guntur', 'branch': 'ECE', 'year': None}"
      ]
     },
     "execution_count": 145,
     "metadata": {},
     "output_type": "execute_result"
    }
   ],
   "source": [
    "info"
   ]
  },
  {
   "cell_type": "code",
   "execution_count": null,
   "id": "0f953148",
   "metadata": {},
   "outputs": [],
   "source": []
  },
  {
   "cell_type": "code",
   "execution_count": null,
   "id": "1a6927a5",
   "metadata": {},
   "outputs": [],
   "source": []
  },
  {
   "cell_type": "code",
   "execution_count": null,
   "id": "2e883d65",
   "metadata": {},
   "outputs": [],
   "source": []
  },
  {
   "cell_type": "code",
   "execution_count": null,
   "id": "6fba79f0",
   "metadata": {},
   "outputs": [],
   "source": []
  },
  {
   "cell_type": "code",
   "execution_count": null,
   "id": "38379b93",
   "metadata": {},
   "outputs": [],
   "source": []
  },
  {
   "cell_type": "markdown",
   "id": "80f1ceca",
   "metadata": {},
   "source": [
    "## Contact Application\n",
    "\n",
    "- Create a contact\n",
    "- update a contact\n",
    "- search contact\n",
    "- delete contact"
   ]
  },
  {
   "cell_type": "code",
   "execution_count": null,
   "id": "f6a37517",
   "metadata": {},
   "outputs": [],
   "source": []
  },
  {
   "cell_type": "code",
   "execution_count": null,
   "id": "774a882c",
   "metadata": {},
   "outputs": [],
   "source": []
  },
  {
   "cell_type": "code",
   "execution_count": null,
   "id": "13b28171",
   "metadata": {},
   "outputs": [],
   "source": []
  },
  {
   "cell_type": "code",
   "execution_count": null,
   "id": "c18c8faf",
   "metadata": {},
   "outputs": [],
   "source": []
  },
  {
   "cell_type": "code",
   "execution_count": null,
   "id": "94f1010f",
   "metadata": {},
   "outputs": [],
   "source": []
  },
  {
   "cell_type": "code",
   "execution_count": null,
   "id": "64ef407a",
   "metadata": {},
   "outputs": [],
   "source": []
  },
  {
   "cell_type": "code",
   "execution_count": null,
   "id": "77b997e3",
   "metadata": {},
   "outputs": [],
   "source": []
  },
  {
   "cell_type": "code",
   "execution_count": null,
   "id": "e37c8640",
   "metadata": {},
   "outputs": [],
   "source": []
  },
  {
   "cell_type": "code",
   "execution_count": null,
   "id": "daa0dbfa",
   "metadata": {},
   "outputs": [],
   "source": []
  },
  {
   "cell_type": "code",
   "execution_count": null,
   "id": "264ad6e9",
   "metadata": {},
   "outputs": [],
   "source": []
  },
  {
   "cell_type": "markdown",
   "id": "9036199f",
   "metadata": {},
   "source": [
    "### Packages and Modules\n",
    "\n",
    "- Package\n",
    "    - Collection of python modules\n",
    "- Module\n",
    "    - Collection of or group of .py files having python code\n",
    "    - code that define functions, classes, varianle etc...\n",
    "    - Modules are two types\n",
    "        - 1. Built-in or predefined modules\n",
    "            - keyword, math, random etc..\n",
    "        - 2. User defined modules\n",
    "             - Created by users\n",
    "    "
   ]
  },
  {
   "cell_type": "code",
   "execution_count": 150,
   "id": "de38908a",
   "metadata": {},
   "outputs": [],
   "source": [
    "## built-in module\n",
    "\n",
    "import keyword as k"
   ]
  },
  {
   "cell_type": "code",
   "execution_count": 151,
   "id": "2da06682",
   "metadata": {},
   "outputs": [
    {
     "name": "stdout",
     "output_type": "stream",
     "text": [
      "['__all__', '__builtins__', '__cached__', '__doc__', '__file__', '__loader__', '__name__', '__package__', '__spec__', 'iskeyword', 'kwlist'] "
     ]
    }
   ],
   "source": [
    "print(dir(k),end=' ')"
   ]
  },
  {
   "cell_type": "code",
   "execution_count": 153,
   "id": "745f7486",
   "metadata": {},
   "outputs": [
    {
     "data": {
      "text/plain": [
       "True"
      ]
     },
     "execution_count": 153,
     "metadata": {},
     "output_type": "execute_result"
    }
   ],
   "source": [
    "k.iskeyword('while')"
   ]
  },
  {
   "cell_type": "code",
   "execution_count": 154,
   "id": "b9693ea3",
   "metadata": {},
   "outputs": [
    {
     "data": {
      "text/plain": [
       "False"
      ]
     },
     "execution_count": 154,
     "metadata": {},
     "output_type": "execute_result"
    }
   ],
   "source": [
    "k.iskeyword('For')"
   ]
  },
  {
   "cell_type": "code",
   "execution_count": 155,
   "id": "b38d8b2b",
   "metadata": {},
   "outputs": [],
   "source": [
    "import math as m"
   ]
  },
  {
   "cell_type": "code",
   "execution_count": 156,
   "id": "922c3a0a",
   "metadata": {},
   "outputs": [
    {
     "name": "stdout",
     "output_type": "stream",
     "text": [
      "['__doc__', '__loader__', '__name__', '__package__', '__spec__', 'acos', 'acosh', 'asin', 'asinh', 'atan', 'atan2', 'atanh', 'ceil', 'comb', 'copysign', 'cos', 'cosh', 'degrees', 'dist', 'e', 'erf', 'erfc', 'exp', 'expm1', 'fabs', 'factorial', 'floor', 'fmod', 'frexp', 'fsum', 'gamma', 'gcd', 'hypot', 'inf', 'isclose', 'isfinite', 'isinf', 'isnan', 'isqrt', 'ldexp', 'lgamma', 'log', 'log10', 'log1p', 'log2', 'modf', 'nan', 'perm', 'pi', 'pow', 'prod', 'radians', 'remainder', 'sin', 'sinh', 'sqrt', 'tan', 'tanh', 'tau', 'trunc'] "
     ]
    }
   ],
   "source": [
    "print(dir(m),end=' ')"
   ]
  },
  {
   "cell_type": "code",
   "execution_count": 157,
   "id": "84f140b3",
   "metadata": {},
   "outputs": [
    {
     "data": {
      "text/plain": [
       "10"
      ]
     },
     "execution_count": 157,
     "metadata": {},
     "output_type": "execute_result"
    }
   ],
   "source": [
    "m.ceil(9.76)"
   ]
  },
  {
   "cell_type": "code",
   "execution_count": 159,
   "id": "d2c648f1",
   "metadata": {},
   "outputs": [
    {
     "data": {
      "text/plain": [
       "9"
      ]
     },
     "execution_count": 159,
     "metadata": {},
     "output_type": "execute_result"
    }
   ],
   "source": [
    "m.floor(9.76)"
   ]
  },
  {
   "cell_type": "code",
   "execution_count": 169,
   "id": "bfb4aec9",
   "metadata": {},
   "outputs": [],
   "source": [
    "## User defined modules\n",
    "\n",
    "from Package import module as m1"
   ]
  },
  {
   "cell_type": "code",
   "execution_count": 163,
   "id": "19aea20f",
   "metadata": {},
   "outputs": [
    {
     "data": {
      "text/plain": [
       "True"
      ]
     },
     "execution_count": 163,
     "metadata": {},
     "output_type": "execute_result"
    }
   ],
   "source": [
    "m1.is_even(98)"
   ]
  },
  {
   "cell_type": "code",
   "execution_count": 164,
   "id": "88aad268",
   "metadata": {},
   "outputs": [
    {
     "data": {
      "text/plain": [
       "False"
      ]
     },
     "execution_count": 164,
     "metadata": {},
     "output_type": "execute_result"
    }
   ],
   "source": [
    "m1.is_even(99)"
   ]
  },
  {
   "cell_type": "code",
   "execution_count": 1,
   "id": "a3bbf119",
   "metadata": {},
   "outputs": [],
   "source": [
    "from Package import module as m2"
   ]
  },
  {
   "cell_type": "code",
   "execution_count": 175,
   "id": "7d8a78ab",
   "metadata": {},
   "outputs": [
    {
     "data": {
      "text/plain": [
       "False"
      ]
     },
     "execution_count": 175,
     "metadata": {},
     "output_type": "execute_result"
    }
   ],
   "source": [
    "m2.is_even(9)"
   ]
  },
  {
   "cell_type": "code",
   "execution_count": 2,
   "id": "e69cee3b",
   "metadata": {},
   "outputs": [
    {
     "name": "stdout",
     "output_type": "stream",
     "text": [
      "Palindrom\n"
     ]
    }
   ],
   "source": [
    "m2.is_pal('level')"
   ]
  },
  {
   "cell_type": "code",
   "execution_count": 2,
   "id": "5a0a50b6",
   "metadata": {},
   "outputs": [
    {
     "name": "stdout",
     "output_type": "stream",
     "text": [
      "Prime\n"
     ]
    }
   ],
   "source": [
    "m2.is_prime(7)"
   ]
  },
  {
   "cell_type": "code",
   "execution_count": 3,
   "id": "2b8cc3a6",
   "metadata": {},
   "outputs": [
    {
     "name": "stdout",
     "output_type": "stream",
     "text": [
      "Not prime\n"
     ]
    }
   ],
   "source": [
    "m2.is_prime(6)"
   ]
  },
  {
   "cell_type": "code",
   "execution_count": 4,
   "id": "f7baf269",
   "metadata": {},
   "outputs": [
    {
     "name": "stdout",
     "output_type": "stream",
     "text": [
      "['__builtins__', '__cached__', '__doc__', '__file__', '__loader__', '__name__', '__package__', '__spec__', 'is_even', 'is_pal', 'is_prime'] "
     ]
    }
   ],
   "source": [
    "print(dir(m2),end=' ')"
   ]
  },
  {
   "cell_type": "code",
   "execution_count": null,
   "id": "ad434880",
   "metadata": {},
   "outputs": [],
   "source": []
  }
 ],
 "metadata": {
  "kernelspec": {
   "display_name": "Python 3",
   "language": "python",
   "name": "python3"
  },
  "language_info": {
   "codemirror_mode": {
    "name": "ipython",
    "version": 3
   },
   "file_extension": ".py",
   "mimetype": "text/x-python",
   "name": "python",
   "nbconvert_exporter": "python",
   "pygments_lexer": "ipython3",
   "version": "3.8.8"
  }
 },
 "nbformat": 4,
 "nbformat_minor": 5
}
