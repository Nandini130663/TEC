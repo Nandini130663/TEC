{
 "cells": [
  {
   "cell_type": "code",
   "execution_count": null,
   "id": "635ae968",
   "metadata": {},
   "outputs": [],
   "source": [
    "n=153\n",
    "while(n>o):\n",
    "    r=n%10\n",
    "    suA"
   ]
  },
  {
   "cell_type": "code",
   "execution_count": null,
   "id": "275f499c",
   "metadata": {},
   "outputs": [],
   "source": []
  },
  {
   "cell_type": "code",
   "execution_count": null,
   "id": "d1ae3f85",
   "metadata": {},
   "outputs": [],
   "source": []
  },
  {
   "cell_type": "markdown",
   "id": "0a8bdf20",
   "metadata": {},
   "source": [
    "## Palindrom series"
   ]
  },
  {
   "cell_type": "code",
   "execution_count": 2,
   "id": "5e6e8aef",
   "metadata": {},
   "outputs": [
    {
     "name": "stdout",
     "output_type": "stream",
     "text": [
      "1\n",
      "1000\n",
      "1 2 3 4 5 6 7 8 9 11 22 33 44 55 66 77 88 99 101 111 121 131 141 151 161 171 181 191 202 212 222 232 242 252 262 272 282 292 303 313 323 333 343 353 363 373 383 393 404 414 424 434 444 454 464 474 484 494 505 515 525 535 545 555 565 575 585 595 606 616 626 636 646 656 666 676 686 696 707 717 727 737 747 757 767 777 787 797 808 818 828 838 848 858 868 878 888 898 909 919 929 939 949 959 969 979 989 999 "
     ]
    }
   ],
   "source": [
    "sr = int(input())\n",
    "er = int(input())\n",
    "for i in range(sr,er+1):\n",
    "    temp = i\n",
    "    rev = 0\n",
    "    while(i!=0):\n",
    "        rem = i%10\n",
    "        rev = rev*10+rem\n",
    "        i = i//10\n",
    "    if(temp == rev):\n",
    "        print(rev,end=' ')\n",
    "    "
   ]
  },
  {
   "cell_type": "code",
   "execution_count": 7,
   "id": "52fa66d0",
   "metadata": {},
   "outputs": [
    {
     "name": "stdout",
     "output_type": "stream",
     "text": [
      "1000\n",
      "9999\n",
      "1634 8208 9474 "
     ]
    }
   ],
   "source": [
    "r = int(input())\n",
    "s = int(input())\n",
    "for i in range(r,s+1):\n",
    "    t = i\n",
    "    s = 0\n",
    "    while(i!=0):\n",
    "        rem = i%10\n",
    "        s = s+rem**4\n",
    "        i = i//10\n",
    "    if(t == s):\n",
    "        print(s,end=' ')\n",
    "    \n",
    "    "
   ]
  },
  {
   "cell_type": "code",
   "execution_count": 5,
   "id": "fba259bb",
   "metadata": {},
   "outputs": [
    {
     "data": {
      "text/plain": [
       "10"
      ]
     },
     "execution_count": 5,
     "metadata": {},
     "output_type": "execute_result"
    }
   ],
   "source": [
    "l = [1,2,3,4]\n",
    "sum(l)"
   ]
  },
  {
   "cell_type": "markdown",
   "id": "9f8841d5",
   "metadata": {},
   "source": [
    "Syntax of while loop:\n",
    "\n",
    "initialization\n",
    "while(condition):\n",
    "    statements/logic\n",
    "    initialization\n",
    "    while(condition):\n",
    "        statements/logic\n",
    "        inc/dec/updation\n",
    "    inc/dec/updation\n",
    "   \n",
    "    "
   ]
  },
  {
   "cell_type": "code",
   "execution_count": 8,
   "id": "2fabcc88",
   "metadata": {},
   "outputs": [
    {
     "name": "stdout",
     "output_type": "stream",
     "text": [
      "1 2 3 4 5 6 7 8 9 10 \n",
      "2 4 6 8 10 12 14 16 18 20 \n",
      "3 6 9 12 15 18 21 24 27 30 \n",
      "4 8 12 16 20 24 28 32 36 40 \n",
      "5 10 15 20 25 30 35 40 45 50 \n",
      "6 12 18 24 30 36 42 48 54 60 \n",
      "7 14 21 28 35 42 49 56 63 70 \n",
      "8 16 24 32 40 48 56 64 72 80 \n",
      "9 18 27 36 45 54 63 72 81 90 \n",
      "10 20 30 40 50 60 70 80 90 100 \n"
     ]
    }
   ],
   "source": [
    "i = 1\n",
    "while(i<=10):\n",
    "    j = 1\n",
    "    while(j <= 10):\n",
    "        print(i*j,end=' ')\n",
    "        j += 1\n",
    "    print()\n",
    "    i += 1\n",
    "    "
   ]
  },
  {
   "cell_type": "markdown",
   "id": "a696e945",
   "metadata": {},
   "source": [
    "## Jump Statements\n",
    "\n",
    "- break\n",
    "    - It will skip all the iterations when control reaches break statement\n",
    "    - break is keyword\n",
    "- continue\n",
    "    - It skip only current iteration and continue with next iteration\n",
    "    - continue also a keyword\n",
    "- pass\n",
    "    - pass is a keyword which is used to do nothing\n",
    "    - we are using this in loop or if statements to represent no operation\n",
    "    - it is null operation\n",
    "    - Why pass statement\n",
    "        - If you want to create a empty class,method etc"
   ]
  },
  {
   "cell_type": "code",
   "execution_count": 9,
   "id": "30e9bcee",
   "metadata": {},
   "outputs": [
    {
     "name": "stdout",
     "output_type": "stream",
     "text": [
      "1 "
     ]
    }
   ],
   "source": [
    "for i in range(1,6):\n",
    "    if(i == 2):\n",
    "        break\n",
    "    print(i,end=' ')"
   ]
  },
  {
   "cell_type": "code",
   "execution_count": 10,
   "id": "b2e0c978",
   "metadata": {},
   "outputs": [
    {
     "name": "stdout",
     "output_type": "stream",
     "text": [
      "1 3 4 5 "
     ]
    }
   ],
   "source": [
    "for i in range(1,6):\n",
    "    if(i == 2):\n",
    "        continue\n",
    "    print(i,end=' ')"
   ]
  },
  {
   "cell_type": "markdown",
   "id": "326799bf",
   "metadata": {},
   "source": [
    "## Strings\n",
    "\n",
    "- Group of characters \n",
    "- we are representing string by single or double or even triple quotes\n",
    "    - ex: 'name123',\"hello@1.234\",\"\"\"string@#\"\"\"\n",
    "- Python does not support character data type\n",
    "- By using index we are accessing elements  \n",
    "    - Representation is square brackets []\n",
    "- We have two types of indexing\n",
    "    - 1.Positive indexing or forward indexing or left to right\n",
    "        - Positive index will starts with '0'\n",
    "    - 2.Negative indexing or backward indexing or right to left\n",
    "        - Negative index will starts with '-1'\n",
    "- Slicing\n",
    "    - Cutting into pieces nothing but substrings\n",
    "    - Syntax: [start : end : step]"
   ]
  },
  {
   "cell_type": "code",
   "execution_count": 13,
   "id": "70ef123b",
   "metadata": {},
   "outputs": [
    {
     "name": "stdout",
     "output_type": "stream",
     "text": [
      "Good morning\n",
      "<class 'str'>\n"
     ]
    }
   ],
   "source": [
    "## Static way of Defining a string\n",
    "\n",
    "a = 'Good morning'\n",
    "print(a)\n",
    "print(type(a))"
   ]
  },
  {
   "cell_type": "code",
   "execution_count": 12,
   "id": "58439877",
   "metadata": {},
   "outputs": [
    {
     "name": "stdout",
     "output_type": "stream",
     "text": [
      "enter a string: nandini\n"
     ]
    },
    {
     "data": {
      "text/plain": [
       "'nandini'"
      ]
     },
     "execution_count": 12,
     "metadata": {},
     "output_type": "execute_result"
    }
   ],
   "source": [
    "## Dynamic way of defining a string\n",
    "\n",
    "b = input('enter a string: ')\n",
    "b"
   ]
  },
  {
   "cell_type": "code",
   "execution_count": 15,
   "id": "138c59d3",
   "metadata": {},
   "outputs": [
    {
     "data": {
      "text/plain": [
       "7"
      ]
     },
     "execution_count": 15,
     "metadata": {},
     "output_type": "execute_result"
    }
   ],
   "source": [
    "s = 'str ing'\n",
    "len(s)"
   ]
  },
  {
   "cell_type": "code",
   "execution_count": 16,
   "id": "1a2e9831",
   "metadata": {},
   "outputs": [
    {
     "data": {
      "text/plain": [
       "'I'"
      ]
     },
     "execution_count": 16,
     "metadata": {},
     "output_type": "execute_result"
    }
   ],
   "source": [
    "## Positive index\n",
    "## Syntax: str_var_name[position/integer]\n",
    "t = \"India\"\n",
    "t[0]\n"
   ]
  },
  {
   "cell_type": "code",
   "execution_count": 17,
   "id": "a8ffceb9",
   "metadata": {},
   "outputs": [
    {
     "data": {
      "text/plain": [
       "'d'"
      ]
     },
     "execution_count": 17,
     "metadata": {},
     "output_type": "execute_result"
    }
   ],
   "source": [
    "t[2]"
   ]
  },
  {
   "cell_type": "code",
   "execution_count": 18,
   "id": "095e3f70",
   "metadata": {},
   "outputs": [
    {
     "data": {
      "text/plain": [
       "'a'"
      ]
     },
     "execution_count": 18,
     "metadata": {},
     "output_type": "execute_result"
    }
   ],
   "source": [
    "## Negative index\n",
    "# Syntax: str_var_name[position/integer]\n",
    "t[-1]"
   ]
  },
  {
   "cell_type": "code",
   "execution_count": 19,
   "id": "f8c1593f",
   "metadata": {},
   "outputs": [
    {
     "data": {
      "text/plain": [
       "'n'"
      ]
     },
     "execution_count": 19,
     "metadata": {},
     "output_type": "execute_result"
    }
   ],
   "source": [
    "t[-4]"
   ]
  },
  {
   "cell_type": "code",
   "execution_count": 24,
   "id": "a701af8c",
   "metadata": {},
   "outputs": [
    {
     "name": "stdout",
     "output_type": "stream",
     "text": [
      "after\n",
      "after\n",
      "Good after\n"
     ]
    }
   ],
   "source": [
    "## Slicing\n",
    "\n",
    "f = 'Good afternoon'\n",
    "print(f[5:10:1])\n",
    "print(f[5:10])\n",
    "print(f[:10])\n"
   ]
  },
  {
   "cell_type": "code",
   "execution_count": 21,
   "id": "f9868690",
   "metadata": {},
   "outputs": [
    {
     "data": {
      "text/plain": [
       "'Good afternoon'"
      ]
     },
     "execution_count": 21,
     "metadata": {},
     "output_type": "execute_result"
    }
   ],
   "source": [
    "f[::]"
   ]
  },
  {
   "cell_type": "code",
   "execution_count": 25,
   "id": "13871822",
   "metadata": {},
   "outputs": [
    {
     "data": {
      "text/plain": [
       "'Good afternoon'"
      ]
     },
     "execution_count": 25,
     "metadata": {},
     "output_type": "execute_result"
    }
   ],
   "source": [
    "f"
   ]
  },
  {
   "cell_type": "code",
   "execution_count": 26,
   "id": "228ed831",
   "metadata": {},
   "outputs": [
    {
     "data": {
      "text/plain": [
       "''"
      ]
     },
     "execution_count": 26,
     "metadata": {},
     "output_type": "execute_result"
    }
   ],
   "source": [
    "f[-4:-1:-1]"
   ]
  },
  {
   "cell_type": "code",
   "execution_count": 27,
   "id": "74abd29d",
   "metadata": {},
   "outputs": [
    {
     "data": {
      "text/plain": [
       "'noon'"
      ]
     },
     "execution_count": 27,
     "metadata": {},
     "output_type": "execute_result"
    }
   ],
   "source": [
    "f[-1:-5:-1]\n",
    "\n",
    "## f[-1]  // -1-1 = -2\n",
    "## -2-1 = -3\n",
    "## -3-1 = -4\n"
   ]
  },
  {
   "cell_type": "code",
   "execution_count": 28,
   "id": "8c436a0e",
   "metadata": {},
   "outputs": [
    {
     "data": {
      "text/plain": [
       "'noonretfa dooG'"
      ]
     },
     "execution_count": 28,
     "metadata": {},
     "output_type": "execute_result"
    }
   ],
   "source": [
    "f[::-1]"
   ]
  },
  {
   "cell_type": "code",
   "execution_count": 30,
   "id": "364b57f9",
   "metadata": {},
   "outputs": [
    {
     "name": "stdout",
     "output_type": "stream",
     "text": [
      "dfsg\n",
      "Not palindrom\n"
     ]
    }
   ],
   "source": [
    "## String palindrom\n",
    "\n",
    "s = input()\n",
    "if(s == s[::-1]):\n",
    "    print('Palindrom')\n",
    "else:\n",
    "    print('Not palindrom')"
   ]
  },
  {
   "cell_type": "code",
   "execution_count": 33,
   "id": "372bc422",
   "metadata": {},
   "outputs": [
    {
     "name": "stdout",
     "output_type": "stream",
     "text": [
      "Length of the string is:  8\n"
     ]
    }
   ],
   "source": [
    "s = 'Tirumala'\n",
    "cnt = 0\n",
    "for i in s:\n",
    "    #print(i)\n",
    "    cnt += 1\n",
    "print('Length of the string is: ',cnt)\n",
    "    "
   ]
  },
  {
   "cell_type": "code",
   "execution_count": 34,
   "id": "6f1473f6",
   "metadata": {
    "scrolled": true
   },
   "outputs": [
    {
     "name": "stdout",
     "output_type": "stream",
     "text": [
      "['__add__', '__class__', '__contains__', '__delattr__', '__dir__', '__doc__', '__eq__', '__format__', '__ge__', '__getattribute__', '__getitem__', '__getnewargs__', '__gt__', '__hash__', '__init__', '__init_subclass__', '__iter__', '__le__', '__len__', '__lt__', '__mod__', '__mul__', '__ne__', '__new__', '__reduce__', '__reduce_ex__', '__repr__', '__rmod__', '__rmul__', '__setattr__', '__sizeof__', '__str__', '__subclasshook__', 'capitalize', 'casefold', 'center', 'count', 'encode', 'endswith', 'expandtabs', 'find', 'format', 'format_map', 'index', 'isalnum', 'isalpha', 'isascii', 'isdecimal', 'isdigit', 'isidentifier', 'islower', 'isnumeric', 'isprintable', 'isspace', 'istitle', 'isupper', 'join', 'ljust', 'lower', 'lstrip', 'maketrans', 'partition', 'replace', 'rfind', 'rindex', 'rjust', 'rpartition', 'rsplit', 'rstrip', 'split', 'splitlines', 'startswith', 'strip', 'swapcase', 'title', 'translate', 'upper', 'zfill'] "
     ]
    }
   ],
   "source": [
    "## Sting methods or string built-in functions\n",
    "\n",
    "print(dir(str),end=' ')"
   ]
  },
  {
   "cell_type": "code",
   "execution_count": 56,
   "id": "c2bc4620",
   "metadata": {},
   "outputs": [
    {
     "name": "stdout",
     "output_type": "stream",
     "text": [
      "['Welcome', 'to', 'Python', 'workship']\n",
      "['Welc', 'me t', ' Pyth', 'n w', 'rkship']\n"
     ]
    }
   ],
   "source": [
    "t = 'Welcome to Python workship'\n",
    "print(t.split())\n",
    "print(t.split('o'))"
   ]
  },
  {
   "cell_type": "code",
   "execution_count": 35,
   "id": "e593ffa1",
   "metadata": {},
   "outputs": [
    {
     "data": {
      "text/plain": [
       "'India'"
      ]
     },
     "execution_count": 35,
     "metadata": {},
     "output_type": "execute_result"
    }
   ],
   "source": [
    "s = 'india'\n",
    "s.capitalize()"
   ]
  },
  {
   "cell_type": "code",
   "execution_count": 37,
   "id": "e8a5ab76",
   "metadata": {},
   "outputs": [
    {
     "data": {
      "text/plain": [
       "'INDIA'"
      ]
     },
     "execution_count": 37,
     "metadata": {},
     "output_type": "execute_result"
    }
   ],
   "source": [
    "s.upper()"
   ]
  },
  {
   "cell_type": "code",
   "execution_count": 38,
   "id": "7c24a924",
   "metadata": {},
   "outputs": [
    {
     "data": {
      "text/plain": [
       "'corporation'"
      ]
     },
     "execution_count": 38,
     "metadata": {},
     "output_type": "execute_result"
    }
   ],
   "source": [
    "r = 'CORPORATION'\n",
    "r.lower()"
   ]
  },
  {
   "cell_type": "code",
   "execution_count": 39,
   "id": "02b3acd8",
   "metadata": {},
   "outputs": [
    {
     "data": {
      "text/plain": [
       "'india'"
      ]
     },
     "execution_count": 39,
     "metadata": {},
     "output_type": "execute_result"
    }
   ],
   "source": [
    "s"
   ]
  },
  {
   "cell_type": "code",
   "execution_count": 40,
   "id": "de881756",
   "metadata": {},
   "outputs": [
    {
     "data": {
      "text/plain": [
       "True"
      ]
     },
     "execution_count": 40,
     "metadata": {},
     "output_type": "execute_result"
    }
   ],
   "source": [
    "s.islower()"
   ]
  },
  {
   "cell_type": "code",
   "execution_count": 41,
   "id": "153365d5",
   "metadata": {},
   "outputs": [
    {
     "data": {
      "text/plain": [
       "False"
      ]
     },
     "execution_count": 41,
     "metadata": {},
     "output_type": "execute_result"
    }
   ],
   "source": [
    "s.isupper()"
   ]
  },
  {
   "cell_type": "code",
   "execution_count": 42,
   "id": "0d66f605",
   "metadata": {},
   "outputs": [
    {
     "data": {
      "text/plain": [
       "'Hi Hello Namaste'"
      ]
     },
     "execution_count": 42,
     "metadata": {},
     "output_type": "execute_result"
    }
   ],
   "source": [
    "g = 'hi hello namaste'\n",
    "g.title()"
   ]
  },
  {
   "cell_type": "code",
   "execution_count": 44,
   "id": "7cf5822f",
   "metadata": {},
   "outputs": [
    {
     "data": {
      "text/plain": [
       "'homehello'"
      ]
     },
     "execution_count": 44,
     "metadata": {},
     "output_type": "execute_result"
    }
   ],
   "source": [
    "g = 'HOMEhello'\n",
    "g.casefold()"
   ]
  },
  {
   "cell_type": "code",
   "execution_count": 45,
   "id": "00c3432c",
   "metadata": {},
   "outputs": [
    {
     "data": {
      "text/plain": [
       "'homehello'"
      ]
     },
     "execution_count": 45,
     "metadata": {},
     "output_type": "execute_result"
    }
   ],
   "source": [
    "g.lower()"
   ]
  },
  {
   "cell_type": "code",
   "execution_count": 46,
   "id": "96ee7d6f",
   "metadata": {},
   "outputs": [
    {
     "name": "stdout",
     "output_type": "stream",
     "text": [
      "home123\n",
      "home123\n"
     ]
    }
   ],
   "source": [
    "g1 = 'HOME123'\n",
    "print(g1.lower())\n",
    "print(g1.casefold())"
   ]
  },
  {
   "cell_type": "code",
   "execution_count": 50,
   "id": "b848a02e",
   "metadata": {},
   "outputs": [
    {
     "ename": "ValueError",
     "evalue": "substring not found",
     "output_type": "error",
     "traceback": [
      "\u001b[1;31m---------------------------------------------------------------------------\u001b[0m",
      "\u001b[1;31mValueError\u001b[0m                                Traceback (most recent call last)",
      "\u001b[1;32m<ipython-input-50-08a94f131888>\u001b[0m in \u001b[0;36m<module>\u001b[1;34m\u001b[0m\n\u001b[0;32m      1\u001b[0m \u001b[0mt\u001b[0m \u001b[1;33m=\u001b[0m \u001b[1;34m'excellent'\u001b[0m\u001b[1;33m\u001b[0m\u001b[1;33m\u001b[0m\u001b[0m\n\u001b[0;32m      2\u001b[0m \u001b[0mt\u001b[0m\u001b[1;33m.\u001b[0m\u001b[0mindex\u001b[0m\u001b[1;33m(\u001b[0m\u001b[1;34m'e'\u001b[0m\u001b[1;33m)\u001b[0m\u001b[1;33m\u001b[0m\u001b[1;33m\u001b[0m\u001b[0m\n\u001b[1;32m----> 3\u001b[1;33m \u001b[0mt\u001b[0m\u001b[1;33m.\u001b[0m\u001b[0mindex\u001b[0m\u001b[1;33m(\u001b[0m\u001b[1;34m'z'\u001b[0m\u001b[1;33m)\u001b[0m\u001b[1;33m\u001b[0m\u001b[1;33m\u001b[0m\u001b[0m\n\u001b[0m",
      "\u001b[1;31mValueError\u001b[0m: substring not found"
     ]
    }
   ],
   "source": [
    "t = 'excellent'\n",
    "t.index('e')\n",
    "t.index('z')"
   ]
  },
  {
   "cell_type": "code",
   "execution_count": 51,
   "id": "556d37e6",
   "metadata": {},
   "outputs": [
    {
     "data": {
      "text/plain": [
       "-1"
      ]
     },
     "execution_count": 51,
     "metadata": {},
     "output_type": "execute_result"
    }
   ],
   "source": [
    "t.find('e')\n",
    "t.find('z')"
   ]
  },
  {
   "cell_type": "code",
   "execution_count": 54,
   "id": "a77d38da",
   "metadata": {},
   "outputs": [
    {
     "name": "stdout",
     "output_type": "stream",
     "text": [
      "True\n",
      "False\n",
      "----------------\n",
      "False\n",
      "True\n"
     ]
    }
   ],
   "source": [
    "y = 'Megastar'\n",
    "print(y.startswith('M'))\n",
    "print(y.startswith('m'))\n",
    "print('----------------')\n",
    "print(y.endswith('R'))\n",
    "print(y.endswith('r'))"
   ]
  },
  {
   "cell_type": "code",
   "execution_count": 57,
   "id": "abc3787a",
   "metadata": {},
   "outputs": [
    {
     "data": {
      "text/plain": [
       "'apSSDC'"
      ]
     },
     "execution_count": 57,
     "metadata": {},
     "output_type": "execute_result"
    }
   ],
   "source": [
    "y = 'APssdc'\n",
    "y.swapcase()"
   ]
  },
  {
   "cell_type": "code",
   "execution_count": 58,
   "id": "7fef5f81",
   "metadata": {},
   "outputs": [
    {
     "data": {
      "text/plain": [
       "'APssdc'"
      ]
     },
     "execution_count": 58,
     "metadata": {},
     "output_type": "execute_result"
    }
   ],
   "source": [
    "y"
   ]
  },
  {
   "cell_type": "code",
   "execution_count": 61,
   "id": "56b68c28",
   "metadata": {},
   "outputs": [
    {
     "data": {
      "text/plain": [
       "'TSssdc'"
      ]
     },
     "execution_count": 61,
     "metadata": {},
     "output_type": "execute_result"
    }
   ],
   "source": [
    "y.replace(\"AP\",\"TS\")"
   ]
  },
  {
   "cell_type": "code",
   "execution_count": 65,
   "id": "b8f2d607",
   "metadata": {},
   "outputs": [
    {
     "name": "stdout",
     "output_type": "stream",
     "text": [
      "ApssDC@123\n",
      "3\n",
      "3\n",
      "3\n",
      "1\n"
     ]
    }
   ],
   "source": [
    "## input: ApssDC@123\n",
    "## output: CC = 3, SC =3, IC = 3, SPC = 1\n",
    "\n",
    "g = input()\n",
    "cc = sc = ic = spc = 0\n",
    "for i in g:\n",
    "    if i.isupper():\n",
    "        cc += 1\n",
    "    elif i.islower():\n",
    "        sc += 1\n",
    "    elif i.isdigit():\n",
    "        ic += 1\n",
    "    else:\n",
    "        spc += 1\n",
    "print(cc)\n",
    "print(sc)\n",
    "print(ic)\n",
    "print(spc)\n",
    "    "
   ]
  },
  {
   "cell_type": "markdown",
   "id": "a3141719",
   "metadata": {},
   "source": [
    "####  Even Ascii alphabets\n",
    "\n",
    "b --> 98\n",
    "d --> 100\n",
    "f --> 102"
   ]
  },
  {
   "cell_type": "code",
   "execution_count": 66,
   "id": "e378cfcd",
   "metadata": {},
   "outputs": [
    {
     "name": "stdout",
     "output_type": "stream",
     "text": [
      "b --> 98\n",
      "d --> 100\n",
      "f --> 102\n",
      "h --> 104\n",
      "j --> 106\n",
      "l --> 108\n",
      "n --> 110\n",
      "p --> 112\n",
      "r --> 114\n",
      "t --> 116\n",
      "v --> 118\n",
      "x --> 120\n",
      "z --> 122\n"
     ]
    }
   ],
   "source": [
    "for i in range(ord('a'),ord('z')+1):\n",
    "    if(i%2==0):\n",
    "        print(chr(i),\"-->\",i)"
   ]
  },
  {
   "cell_type": "code",
   "execution_count": 67,
   "id": "2f0ba2ec",
   "metadata": {},
   "outputs": [
    {
     "data": {
      "text/plain": [
       "'helloworld'"
      ]
     },
     "execution_count": 67,
     "metadata": {},
     "output_type": "execute_result"
    }
   ],
   "source": [
    "s1 = \"hello\"\n",
    "s2 = \"world\"\n",
    "s1 + s2"
   ]
  },
  {
   "cell_type": "code",
   "execution_count": 68,
   "id": "c7a3b7ea",
   "metadata": {},
   "outputs": [
    {
     "data": {
      "text/plain": [
       "'hellohellohello'"
      ]
     },
     "execution_count": 68,
     "metadata": {},
     "output_type": "execute_result"
    }
   ],
   "source": [
    "s1 * 3"
   ]
  },
  {
   "cell_type": "markdown",
   "id": "3c54e293",
   "metadata": {},
   "source": [
    "# Functions\n"
   ]
  },
  {
   "cell_type": "code",
   "execution_count": null,
   "id": "958f03de",
   "metadata": {},
   "outputs": [],
   "source": [
    "-> A function is a group of related statements\n",
    "   that performs a specific task"
   ]
  },
  {
   "cell_type": "code",
   "execution_count": null,
   "id": "e3389838",
   "metadata": {},
   "outputs": [],
   "source": [
    "Advantages:\n",
    "    -> Re usability\n",
    "    -> divide larger programs into smaller"
   ]
  },
  {
   "cell_type": "code",
   "execution_count": null,
   "id": "ef862ccd",
   "metadata": {},
   "outputs": [],
   "source": [
    "Types Of Functions:\n",
    "    1.builtin functions:  len,min,max,print.......\n",
    "    2.user defined functions: "
   ]
  },
  {
   "cell_type": "code",
   "execution_count": null,
   "id": "5b1d39c6",
   "metadata": {},
   "outputs": [],
   "source": [
    "user defined functions:\n",
    "    1.with arguments with return value\n",
    "    2.with arguments without return value\n",
    "    3.without arguments with return value\n",
    "    4.without arguments without return value"
   ]
  },
  {
   "cell_type": "code",
   "execution_count": null,
   "id": "468b0182",
   "metadata": {},
   "outputs": [],
   "source": [
    "function syntax:\n",
    "    def funtionname(arguments/parameters):  //\n",
    "        statements\n",
    "    functionname(arguments/parameters)  // function calling"
   ]
  },
  {
   "cell_type": "code",
   "execution_count": 69,
   "id": "37442f95",
   "metadata": {},
   "outputs": [
    {
     "data": {
      "text/plain": [
       "9"
      ]
     },
     "execution_count": 69,
     "metadata": {},
     "output_type": "execute_result"
    }
   ],
   "source": [
    "# 1.with arguments with return value\n",
    "a=5\n",
    "b=4\n",
    "def add1(a,b):\n",
    "    return a+b\n",
    "add1(a,b)"
   ]
  },
  {
   "cell_type": "code",
   "execution_count": 70,
   "id": "c49f257a",
   "metadata": {},
   "outputs": [
    {
     "name": "stdout",
     "output_type": "stream",
     "text": [
      "56\n",
      "23\n",
      "79\n"
     ]
    }
   ],
   "source": [
    "# 2.with arguments without return value\n",
    "s=int(input())\n",
    "v=int(input())\n",
    "def add2(s,v):\n",
    "    print(s+v)\n",
    "add2(s,v)"
   ]
  },
  {
   "cell_type": "code",
   "execution_count": 71,
   "id": "0037574b",
   "metadata": {},
   "outputs": [
    {
     "name": "stdout",
     "output_type": "stream",
     "text": [
      "34\n",
      "12\n"
     ]
    },
    {
     "data": {
      "text/plain": [
       "46"
      ]
     },
     "execution_count": 71,
     "metadata": {},
     "output_type": "execute_result"
    }
   ],
   "source": [
    "# 3.without arguments with return value\n",
    "a1=int(input())\n",
    "b1=int(input())\n",
    "def add3():\n",
    "    return a1+b1\n",
    "add3()"
   ]
  },
  {
   "cell_type": "code",
   "execution_count": 72,
   "id": "4a9dd07f",
   "metadata": {},
   "outputs": [
    {
     "name": "stdout",
     "output_type": "stream",
     "text": [
      "33\n",
      "22\n",
      "55\n"
     ]
    }
   ],
   "source": [
    "# 4.without arguments without return value\n",
    "s1=int(input())\n",
    "s2=int(input())\n",
    "def add4():\n",
    "    print(s1+s2)\n",
    "add4()"
   ]
  },
  {
   "cell_type": "code",
   "execution_count": null,
   "id": "81ecaf44",
   "metadata": {},
   "outputs": [],
   "source": [
    "# 7\n",
    "# odd"
   ]
  },
  {
   "cell_type": "code",
   "execution_count": 3,
   "id": "a48938a6",
   "metadata": {},
   "outputs": [
    {
     "name": "stdout",
     "output_type": "stream",
     "text": [
      "4\n"
     ]
    },
    {
     "data": {
      "text/plain": [
       "False"
      ]
     },
     "execution_count": 3,
     "metadata": {},
     "output_type": "execute_result"
    }
   ],
   "source": [
    "def prime(n):\n",
    "    c=0\n",
    "    for i in range(1,n+1):\n",
    "        if(n%i==0):\n",
    "            c=c+1\n",
    "    if(c==2):\n",
    "        return True\n",
    "    else:\n",
    "        return False\n",
    "n=int(input())\n",
    "prime(n)"
   ]
  },
  {
   "cell_type": "code",
   "execution_count": 5,
   "id": "00f76d4e",
   "metadata": {},
   "outputs": [
    {
     "name": "stdout",
     "output_type": "stream",
     "text": [
      "20\n",
      "30\n",
      "23 29 "
     ]
    }
   ],
   "source": [
    "def primerange(s,e):\n",
    "    for i in range(s,e+1):\n",
    "        if(prime(i)==True):\n",
    "            print(i,end=' ')\n",
    "s=int(input())\n",
    "e=int(input())\n",
    "primerange(s,e)"
   ]
  },
  {
   "cell_type": "code",
   "execution_count": 11,
   "id": "4d42b2bf",
   "metadata": {},
   "outputs": [
    {
     "name": "stdout",
     "output_type": "stream",
     "text": [
      "enter a value 56\n",
      "even\n"
     ]
    }
   ],
   "source": [
    "# even or odd\n",
    "n=int(input(\"enter a value \"))\n",
    "def even(n):\n",
    "    if(n%2==0):\n",
    "        print(\"even\")\n",
    "    else:\n",
    "        print(\"odd\")\n",
    "even(n)"
   ]
  },
  {
   "cell_type": "code",
   "execution_count": 12,
   "id": "be052e8f",
   "metadata": {},
   "outputs": [
    {
     "name": "stdout",
     "output_type": "stream",
     "text": [
      "level\n",
      "palidrome\n"
     ]
    }
   ],
   "source": [
    "# level\n",
    "# level\n",
    "def palindrome(n):\n",
    "    if(n==n[::-1]):\n",
    "        print(\"palidrome\")\n",
    "    else:\n",
    "        print(\"Not palindrome\")\n",
    "n=input()\n",
    "palindrome(n)"
   ]
  },
  {
   "cell_type": "code",
   "execution_count": 13,
   "id": "8e62e897",
   "metadata": {},
   "outputs": [
    {
     "name": "stdout",
     "output_type": "stream",
     "text": [
      "1\n",
      "10\n"
     ]
    },
    {
     "data": {
      "text/plain": [
       "5.5"
      ]
     },
     "execution_count": 13,
     "metadata": {},
     "output_type": "execute_result"
    }
   ],
   "source": [
    "# i/p: 1\n",
    "# i/p: 10\n",
    "# o/p: Average=5.5\n",
    "\n",
    "a=int(input())\n",
    "b=int(input())\n",
    "def average(a,b):\n",
    "    return((a+b)/2)\n",
    "average(a,b)"
   ]
  },
  {
   "cell_type": "code",
   "execution_count": 15,
   "id": "01827c57",
   "metadata": {},
   "outputs": [
    {
     "name": "stdout",
     "output_type": "stream",
     "text": [
      "# # # # \n",
      "# # # # \n",
      "# # # # \n",
      "# # # # \n"
     ]
    }
   ],
   "source": [
    "## Square pattern\n",
    "\n",
    "for i in range(1,5):\n",
    "    for j in range(1,5):\n",
    "        print('#',end=' ')\n",
    "    print()\n",
    "    "
   ]
  },
  {
   "cell_type": "code",
   "execution_count": 17,
   "id": "8aabf967",
   "metadata": {},
   "outputs": [
    {
     "name": "stdout",
     "output_type": "stream",
     "text": [
      "1 2 3 4 \n",
      "1 2 3 4 \n",
      "1 2 3 4 \n",
      "1 2 3 4 \n"
     ]
    }
   ],
   "source": [
    "for i in range(1,5):\n",
    "    for j in range(1,5):\n",
    "        print(j,end=' ')\n",
    "    print()"
   ]
  },
  {
   "cell_type": "code",
   "execution_count": 20,
   "id": "7acf9206",
   "metadata": {},
   "outputs": [
    {
     "name": "stdout",
     "output_type": "stream",
     "text": [
      "7\n",
      "* * * * * * * \n",
      "*           * \n",
      "*           * \n",
      "*           * \n",
      "*           * \n",
      "*           * \n",
      "* * * * * * * \n"
     ]
    }
   ],
   "source": [
    "n = int(input())\n",
    "for j in range(1,n+1):\n",
    "    for k in range(1,n+1):\n",
    "        if(j==1 or j==n or k == 1 or k == n):\n",
    "            print('*',end=' ')\n",
    "        else:\n",
    "            print(' ',end=' ')\n",
    "    print()"
   ]
  },
  {
   "cell_type": "code",
   "execution_count": 21,
   "id": "7e743108",
   "metadata": {},
   "outputs": [
    {
     "name": "stdout",
     "output_type": "stream",
     "text": [
      "5\n",
      "* \n",
      "* * \n",
      "* * * \n",
      "* * * * \n",
      "* * * * * \n"
     ]
    }
   ],
   "source": [
    "# 00 01 02 03\n",
    "# 11 12 12 13\n",
    "# 21 22 23 24\n",
    "# 31 32 33 34\n",
    "\n",
    "n = int(input())\n",
    "for i in range(n):\n",
    "    for j in range(i+1):\n",
    "        print('*',end=' ')\n",
    "    print()"
   ]
  },
  {
   "cell_type": "code",
   "execution_count": null,
   "id": "9697eedb",
   "metadata": {},
   "outputs": [],
   "source": []
  }
 ],
 "metadata": {
  "kernelspec": {
   "display_name": "Python 3",
   "language": "python",
   "name": "python3"
  },
  "language_info": {
   "codemirror_mode": {
    "name": "ipython",
    "version": 3
   },
   "file_extension": ".py",
   "mimetype": "text/x-python",
   "name": "python",
   "nbconvert_exporter": "python",
   "pygments_lexer": "ipython3",
   "version": "3.8.8"
  }
 },
 "nbformat": 4,
 "nbformat_minor": 5
}
