{
 "cells": [
  {
   "cell_type": "code",
   "execution_count": 1,
   "id": "53315fa2",
   "metadata": {},
   "outputs": [
    {
     "name": "stdout",
     "output_type": "stream",
     "text": [
      "enter first number: 10\n",
      "enter second number: 12\n",
      "*\n",
      "120\n"
     ]
    }
   ],
   "source": [
    "## input: 1,4, +\n",
    "## output: 5\n",
    "## input: 10,6,-\n",
    "## output: 4\n",
    "## input: 4,10,*\n",
    "## output: 40\n",
    "\n",
    "n1 = int(input('enter first number: '))\n",
    "n2 = int(input('enter second number: '))\n",
    "ch = input()\n",
    "if ch == '+':\n",
    "    print(n1+n2)\n",
    "elif ch == '-':\n",
    "    print(n1-n2)\n",
    "elif ch == '*':\n",
    "    print(n1*n2)\n",
    "elif ch == '/':\n",
    "    print(n1/n2)\n",
    "else:\n",
    "    print('Invalid')\n",
    "\n",
    "\n"
   ]
  },
  {
   "cell_type": "markdown",
   "id": "11da400f",
   "metadata": {},
   "source": [
    "## input: 12 56 98\n",
    "## output: 98"
   ]
  },
  {
   "cell_type": "code",
   "execution_count": 2,
   "id": "f070d191",
   "metadata": {},
   "outputs": [
    {
     "name": "stdout",
     "output_type": "stream",
     "text": [
      "12\n",
      "56\n",
      "98\n",
      "98\n"
     ]
    }
   ],
   "source": [
    "n1 = int(input())\n",
    "n2 = int(input())\n",
    "n3 = int(input())\n",
    "if(n1>n2 and n1>n3):\n",
    "    print(n1)\n",
    "elif(n2>n3):\n",
    "    print(n2)\n",
    "else:\n",
    "    print(n3)"
   ]
  },
  {
   "cell_type": "markdown",
   "id": "ede61264",
   "metadata": {},
   "source": [
    "Syntax:\n",
    "\n",
    "if(condition):\n",
    "    statements/logic\n",
    "    if(condition):\n",
    "        statements/logic\n",
    "    else:\n",
    "        statements/logic\n",
    "        \n",
    " "
   ]
  },
  {
   "cell_type": "markdown",
   "id": "bc142a7c",
   "metadata": {},
   "source": [
    "Enter User_id = 1 -- 100\n",
    "    enter pwd == 12345\n",
    "        Successfully entered\n",
    "    Wrong password  \n",
    "Invalid user"
   ]
  },
  {
   "cell_type": "code",
   "execution_count": 5,
   "id": "83a1bb1b",
   "metadata": {},
   "outputs": [
    {
     "name": "stdout",
     "output_type": "stream",
     "text": [
      "enter user id: 45\n",
      "enter password: 12345\n",
      "Successfully entered\n"
     ]
    }
   ],
   "source": [
    "u_id = int(input('enter user id: '))\n",
    "if(u_id>=1 and u_id<=100):\n",
    "    pw = int(input('enter password: '))\n",
    "    if(pw == 12345):\n",
    "        print('Successfully entered')\n",
    "    else:\n",
    "        print('Wrong password')\n",
    "else:\n",
    "    print('Invalid user')\n",
    "    \n"
   ]
  },
  {
   "cell_type": "markdown",
   "id": "b12bf2c6",
   "metadata": {},
   "source": [
    "## Control Statements/ Loops\n",
    "\n",
    "- for\n",
    "    - To repeat same in multiple times\n",
    "- while\n",
    "- nested for\n",
    "- nested while"
   ]
  },
  {
   "cell_type": "code",
   "execution_count": 6,
   "id": "6f2c712e",
   "metadata": {},
   "outputs": [
    {
     "name": "stdout",
     "output_type": "stream",
     "text": [
      "Supriya\n",
      "Supriya\n",
      "Supriya\n",
      "Supriya\n",
      "Supriya\n",
      "Supriya\n"
     ]
    }
   ],
   "source": [
    "print('Supriya')\n",
    "print('Supriya')\n",
    "print('Supriya')\n",
    "print('Supriya')\n",
    "print('Supriya')\n",
    "print('Supriya')"
   ]
  },
  {
   "cell_type": "markdown",
   "id": "3b5d54ee",
   "metadata": {},
   "source": [
    "Syntax of for\n",
    "\n",
    "\n",
    "for varaible in range(start,end,step):\n",
    "    statements/logic\n",
    "    "
   ]
  },
  {
   "cell_type": "code",
   "execution_count": 7,
   "id": "ff6705d8",
   "metadata": {},
   "outputs": [
    {
     "name": "stdout",
     "output_type": "stream",
     "text": [
      "1\n",
      "2\n",
      "3\n",
      "4\n",
      "5\n",
      "6\n",
      "7\n",
      "8\n",
      "9\n"
     ]
    }
   ],
   "source": [
    "for i in range(1,10,1):\n",
    "    print(i)"
   ]
  },
  {
   "cell_type": "code",
   "execution_count": 8,
   "id": "e3ba47f2",
   "metadata": {},
   "outputs": [
    {
     "name": "stdout",
     "output_type": "stream",
     "text": [
      "1\n",
      "2\n",
      "3\n",
      "4\n",
      "5\n",
      "6\n",
      "7\n",
      "8\n",
      "9\n"
     ]
    }
   ],
   "source": [
    "for i in range(1,10):  ## step is default by 1\n",
    "    print(i)"
   ]
  },
  {
   "cell_type": "code",
   "execution_count": 9,
   "id": "b8781c96",
   "metadata": {},
   "outputs": [
    {
     "name": "stdout",
     "output_type": "stream",
     "text": [
      "0\n",
      "1\n",
      "2\n",
      "3\n",
      "4\n",
      "5\n",
      "6\n",
      "7\n",
      "8\n",
      "9\n"
     ]
    }
   ],
   "source": [
    "for i in range(10):  ## start is default which is '0'\n",
    "    print(i)"
   ]
  },
  {
   "cell_type": "code",
   "execution_count": 10,
   "id": "867db92a",
   "metadata": {},
   "outputs": [
    {
     "name": "stdout",
     "output_type": "stream",
     "text": [
      "1 3 5 7 9 11 13 15 17 19 "
     ]
    }
   ],
   "source": [
    "for j in range(1,20,2):\n",
    "    print(j,end=' ')"
   ]
  },
  {
   "cell_type": "markdown",
   "id": "6de278a1",
   "metadata": {},
   "source": [
    "### Sum of n natural number\n"
   ]
  },
  {
   "cell_type": "code",
   "execution_count": 12,
   "id": "42c947f9",
   "metadata": {},
   "outputs": [
    {
     "name": "stdout",
     "output_type": "stream",
     "text": [
      "enter start value: 1\n",
      "enter end value: 100\n",
      "5050\n"
     ]
    }
   ],
   "source": [
    "s = int(input('enter start value: ')) # 1\n",
    "e = int(input('enter end value: ')) # 5\n",
    "s = 0\n",
    "for var in range(s,e+1): # (1,6) 1 2 3 4 5\n",
    "    s += var ## s = s + var // s = 0+1 //s = 1+2 //s = 3+3\n",
    "print(s)"
   ]
  },
  {
   "cell_type": "code",
   "execution_count": 15,
   "id": "8c7079f4",
   "metadata": {},
   "outputs": [
    {
     "name": "stdout",
     "output_type": "stream",
     "text": [
      "78\n",
      "120\n",
      "Even numbers are: \n",
      "78 80 82 84 86 88 90 92 94 96 98 100 102 104 106 108 110 112 114 116 118 120 \n",
      "Odd numbers are: \n",
      "79 81 83 85 87 89 91 93 95 97 99 101 103 105 107 109 111 113 115 117 119 "
     ]
    }
   ],
   "source": [
    "s = int(input())\n",
    "e = int(input())\n",
    "print('Even numbers are: ')\n",
    "for i in range(s,e+1):\n",
    "    if(i%2 == 0):\n",
    "        print(i,end=' ')\n",
    "print('\\nOdd numbers are: ')\n",
    "for i in range(s,e+1):\n",
    "    if(i%2 != 0):  # i%2 == 1\n",
    "        print(i,end=' ')\n"
   ]
  },
  {
   "cell_type": "code",
   "execution_count": 16,
   "id": "abec53f4",
   "metadata": {},
   "outputs": [
    {
     "data": {
      "text/plain": [
       "'N'"
      ]
     },
     "execution_count": 16,
     "metadata": {},
     "output_type": "execute_result"
    }
   ],
   "source": [
    "chr(78)"
   ]
  },
  {
   "cell_type": "code",
   "execution_count": 17,
   "id": "d5c9e5b5",
   "metadata": {},
   "outputs": [
    {
     "data": {
      "text/plain": [
       "110"
      ]
     },
     "execution_count": 17,
     "metadata": {},
     "output_type": "execute_result"
    }
   ],
   "source": [
    "ord('n')"
   ]
  },
  {
   "cell_type": "code",
   "execution_count": 22,
   "id": "6c065cba",
   "metadata": {},
   "outputs": [
    {
     "name": "stdout",
     "output_type": "stream",
     "text": [
      "Lowercase letters are: \n",
      "a b c d e f g h i j k l m n o p q r s t u v w x y z \n",
      "Uppercase letters are: \n",
      "A B C D E F G H I J K L M N O P Q R S T U V W X Y Z "
     ]
    }
   ],
   "source": [
    "print('Lowercase letters are: ')\n",
    "for i in range(ord('a'),ord('z')+1):  ## range(97,122+1)\n",
    "    print(chr(i),end=' ') ## chr(97)\n",
    "print('\\nUppercase letters are: ')\n",
    "for i in range(ord('A'),ord('Z')+1):\n",
    "    print(chr(i),end=' ')"
   ]
  },
  {
   "cell_type": "code",
   "execution_count": 19,
   "id": "82ae676a",
   "metadata": {},
   "outputs": [
    {
     "data": {
      "text/plain": [
       "97"
      ]
     },
     "execution_count": 19,
     "metadata": {},
     "output_type": "execute_result"
    }
   ],
   "source": [
    "ord('a')\n"
   ]
  },
  {
   "cell_type": "code",
   "execution_count": 21,
   "id": "c33822da",
   "metadata": {},
   "outputs": [
    {
     "data": {
      "text/plain": [
       "'a'"
      ]
     },
     "execution_count": 21,
     "metadata": {},
     "output_type": "execute_result"
    }
   ],
   "source": [
    "chr(97)"
   ]
  },
  {
   "cell_type": "code",
   "execution_count": 20,
   "id": "67682256",
   "metadata": {},
   "outputs": [
    {
     "data": {
      "text/plain": [
       "122"
      ]
     },
     "execution_count": 20,
     "metadata": {},
     "output_type": "execute_result"
    }
   ],
   "source": [
    "ord('z')"
   ]
  },
  {
   "cell_type": "markdown",
   "id": "f5847049",
   "metadata": {},
   "source": [
    "## Print factorial of the given number"
   ]
  },
  {
   "cell_type": "code",
   "execution_count": 23,
   "id": "129f3824",
   "metadata": {},
   "outputs": [
    {
     "name": "stdout",
     "output_type": "stream",
     "text": [
      "5\n",
      "120\n"
     ]
    }
   ],
   "source": [
    "## input: 5\n",
    "## output: 120\n",
    "## 5 * 4 * 3 * 2 * 1\n",
    "\n",
    "n = int(input()) # 5\n",
    "f = 1\n",
    "for i in range(1,n+1):\n",
    "    f *= i ## f = f*i ## f = 1*1 // f = 1*2 // f = 2*3 //f = 6*4 //f = 24*5\n",
    "print(f)\n",
    "    "
   ]
  },
  {
   "cell_type": "code",
   "execution_count": 26,
   "id": "520aae44",
   "metadata": {},
   "outputs": [
    {
     "name": "stdout",
     "output_type": "stream",
     "text": [
      "10\n",
      "Factors are: \n",
      "1 2 5 10 \n",
      "Factors sum is:  18\n",
      "Factors count is:  4\n"
     ]
    }
   ],
   "source": [
    "## Factors for given number\n",
    "## input: 10  // 1 2 3 4 5 6 7 8 9 10\n",
    "## output: 1 2 5 10\n",
    "\n",
    "h = int(input())\n",
    "f_sum = 0\n",
    "f_cnt = 0\n",
    "print('Factors are: ')\n",
    "for i in range(1,h+1):\n",
    "    if h%i == 0:\n",
    "        f_sum += i\n",
    "        f_cnt += 1\n",
    "        print(i,end=' ')\n",
    "print('\\nFactors sum is: ',f_sum)\n",
    "print('Factors count is: ',f_cnt)"
   ]
  },
  {
   "cell_type": "code",
   "execution_count": 2,
   "id": "44521e5c",
   "metadata": {},
   "outputs": [
    {
     "name": "stdout",
     "output_type": "stream",
     "text": [
      "6\n",
      "Not prime number\n"
     ]
    }
   ],
   "source": [
    "## Check the given number is prime or not\n",
    "\n",
    "u = int(input())\n",
    "f_c = 0\n",
    "for i in range(1,u+1):\n",
    "    if u%i == 0:\n",
    "        f_c += 1\n",
    "if f_c == 2:\n",
    "    print('Prime number')\n",
    "else:\n",
    "    print('Not prime number')"
   ]
  },
  {
   "cell_type": "code",
   "execution_count": 6,
   "id": "320edca8",
   "metadata": {},
   "outputs": [
    {
     "name": "stdout",
     "output_type": "stream",
     "text": [
      "28\n",
      "Perfect number\n"
     ]
    }
   ],
   "source": [
    "h = int(input())\n",
    "f_sum = 0\n",
    "for j in range(1,h):\n",
    "    if h%j == 0:\n",
    "        f_sum += j\n",
    "if(f_sum == h):\n",
    "    print('Perfect number')\n",
    "else:\n",
    "    print('Not a perfect number')\n"
   ]
  },
  {
   "cell_type": "code",
   "execution_count": 7,
   "id": "195779e0",
   "metadata": {},
   "outputs": [
    {
     "name": "stdout",
     "output_type": "stream",
     "text": [
      "10 9 8 7 6 5 4 3 2 1 "
     ]
    }
   ],
   "source": [
    "## input: 1,10\n",
    "## output: 10 9 8 7 6 5 4 3 2 1\n",
    "\n",
    "for i in range(10,0,-1):\n",
    "    print(i,end=' ')"
   ]
  },
  {
   "cell_type": "code",
   "execution_count": 12,
   "id": "7ff6936f",
   "metadata": {},
   "outputs": [
    {
     "name": "stdout",
     "output_type": "stream",
     "text": [
      "1\n",
      "10\n",
      "10 9 8 7 6 5 4 3 2 1 "
     ]
    }
   ],
   "source": [
    "s = int(input())\n",
    "e = int(input())\n",
    "for j in range(e,s-1,-1):\n",
    "    print(j,end=' ')"
   ]
  },
  {
   "cell_type": "markdown",
   "id": "f8f9612b",
   "metadata": {},
   "source": [
    "### While loop\n",
    "\n",
    "- Used to repeat same task into multiple times\n",
    "- First difference is Syntax\n",
    "- Execution time is very less compare to for loop\n",
    "- while is one the keywords\n",
    "- Number of iterations are unknown\n",
    "\n"
   ]
  },
  {
   "cell_type": "markdown",
   "id": "9400a8f3",
   "metadata": {},
   "source": []
  },
  {
   "cell_type": "markdown",
   "id": "353ed738",
   "metadata": {},
   "source": [
    "initialization\n",
    "while(condition):\n",
    "    statements/logic\n",
    "    inc/dec/updation\n",
    "    "
   ]
  },
  {
   "cell_type": "code",
   "execution_count": 14,
   "id": "06b757e3",
   "metadata": {},
   "outputs": [
    {
     "name": "stdout",
     "output_type": "stream",
     "text": [
      "10\n",
      "1 2 3 4 5 6 7 8 9 10 \n",
      "Sum is:  55\n"
     ]
    }
   ],
   "source": [
    "## printing N natural numbers through while loop\n",
    "\n",
    "i = 1\n",
    "s = 0\n",
    "n = int(input())\n",
    "while(i<=n):\n",
    "    s += i\n",
    "    print(i,end=' ')\n",
    "    i += 1 ## increment // i -= 1 decrement\n",
    "print('\\nSum is: ',s)\n",
    "    "
   ]
  },
  {
   "cell_type": "code",
   "execution_count": 16,
   "id": "e043eca1",
   "metadata": {},
   "outputs": [
    {
     "name": "stdout",
     "output_type": "stream",
     "text": [
      "384576\n",
      "675483\n"
     ]
    }
   ],
   "source": [
    "## Reverse of the number\n",
    "## input: 1234\n",
    "## output: 4321\n",
    "\n",
    "n = int(input())\n",
    "rev = 0\n",
    "while(n != 0): ## 123  // 12 // 1\n",
    "    rem = n%10  ## rem = 3 // 2 // 1\n",
    "    rev = rev*10+rem ## rev = 0+3 // rev = 3*10+2 = 32// rev= 32*10+1= 321\n",
    "    n = n//10 ## n 12 // n = 1\n",
    "print(rev)\n",
    "\n",
    "\n"
   ]
  },
  {
   "cell_type": "markdown",
   "id": "ccc52ff9",
   "metadata": {},
   "source": [
    "### Check the given number is palindrom or not"
   ]
  },
  {
   "cell_type": "code",
   "execution_count": 19,
   "id": "d1b83733",
   "metadata": {},
   "outputs": [
    {
     "name": "stdout",
     "output_type": "stream",
     "text": [
      "567\n",
      "Not palindrom\n"
     ]
    }
   ],
   "source": [
    "## input: 121\n",
    "## output: Palindrom\n",
    "\n",
    "n = int(input())\n",
    "temp = n\n",
    "rev = 0\n",
    "while(n!=0):\n",
    "    rem = n%10\n",
    "    rev = rev*10+rem\n",
    "    n = n//10\n",
    "# print(n)\n",
    "if(rev == temp):\n",
    "    print('Palindrom')\n",
    "else:\n",
    "    print('Not palindrom')\n"
   ]
  },
  {
   "cell_type": "code",
   "execution_count": null,
   "id": "f6b2bd82",
   "metadata": {},
   "outputs": [],
   "source": []
  },
  {
   "cell_type": "code",
   "execution_count": null,
   "id": "84c0ec5f",
   "metadata": {},
   "outputs": [],
   "source": []
  }
 ],
 "metadata": {
  "kernelspec": {
   "display_name": "Python 3",
   "language": "python",
   "name": "python3"
  },
  "language_info": {
   "codemirror_mode": {
    "name": "ipython",
    "version": 3
   },
   "file_extension": ".py",
   "mimetype": "text/x-python",
   "name": "python",
   "nbconvert_exporter": "python",
   "pygments_lexer": "ipython3",
   "version": "3.8.8"
  }
 },
 "nbformat": 4,
 "nbformat_minor": 5
}
