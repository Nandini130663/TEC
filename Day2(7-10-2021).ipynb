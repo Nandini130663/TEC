{
 "cells": [
  {
   "cell_type": "markdown",
   "id": "1541f0cc",
   "metadata": {},
   "source": [
    "h1 h2 h3 h4 h5 h6"
   ]
  },
  {
   "cell_type": "markdown",
   "id": "239d84c4",
   "metadata": {},
   "source": [
    "# Name1\n",
    "## Name2\n",
    "### Name3\n",
    "#### Name4\n",
    "##### Name5\n",
    "###### name6"
   ]
  },
  {
   "cell_type": "markdown",
   "id": "af10ac71",
   "metadata": {},
   "source": [
    "shift+enter -- To run the code\n",
    "esc+m -- To change code mode to markdown\n",
    "a  -- to create cell above\n",
    "b -- to create cell below\n"
   ]
  },
  {
   "cell_type": "markdown",
   "id": "5ca7b705",
   "metadata": {},
   "source": [
    "5 * 6 = 30\n",
    "10 * 50 = 500 \n",
    "500 * 976 = "
   ]
  },
  {
   "cell_type": "markdown",
   "id": "035ff7a3",
   "metadata": {},
   "source": [
    "- To communicate with machine we are going to learn programming languages\n",
    "- To solve higher complexity problems\n",
    "- Python was developed by Guido Van Rossum\n",
    "- Python is high level,dynamically typed, object oriented, Interpreted and scripting language\n",
    "\n"
   ]
  },
  {
   "cell_type": "code",
   "execution_count": null,
   "id": "cdd254e6",
   "metadata": {},
   "outputs": [],
   "source": [
    "#include<stdio.h>\n",
    "int main()\n",
    "{\n",
    "    int n;\n",
    "    scanf(\"%d\",&n);\n",
    "    printf(\"%d\",n);\n",
    "    return 0;\n",
    "}"
   ]
  },
  {
   "cell_type": "code",
   "execution_count": null,
   "id": "3b5fc187",
   "metadata": {},
   "outputs": [],
   "source": [
    "n = 10\n",
    "print(n)"
   ]
  },
  {
   "cell_type": "markdown",
   "id": "14ed4faf",
   "metadata": {},
   "source": [
    "### Comments\n",
    "\n",
    "- To hold particular lines of code\n",
    "- We have two types of comments\n",
    "    - 1.Single line \n",
    "        - Representation '#' \n",
    "    - 2.Multi line \n",
    "        - Representation \"\"\" code \"\"\"\n",
    "    "
   ]
  },
  {
   "cell_type": "markdown",
   "id": "c7118134",
   "metadata": {},
   "source": [
    "### Data Types\n",
    "\n",
    "- We are using data types to represent data which are like int,float,str etc..\n"
   ]
  },
  {
   "cell_type": "code",
   "execution_count": 41,
   "id": "9704335e",
   "metadata": {},
   "outputs": [
    {
     "data": {
      "text/plain": [
       "int"
      ]
     },
     "execution_count": 41,
     "metadata": {},
     "output_type": "execute_result"
    }
   ],
   "source": [
    "n = 12\n",
    "type(n)"
   ]
  },
  {
   "cell_type": "code",
   "execution_count": 2,
   "id": "a01161f7",
   "metadata": {},
   "outputs": [
    {
     "data": {
      "text/plain": [
       "float"
      ]
     },
     "execution_count": 2,
     "metadata": {},
     "output_type": "execute_result"
    }
   ],
   "source": [
    "h = 6.78\n",
    "type(h)"
   ]
  },
  {
   "cell_type": "code",
   "execution_count": 3,
   "id": "82c8b814",
   "metadata": {},
   "outputs": [
    {
     "data": {
      "text/plain": [
       "str"
      ]
     },
     "execution_count": 3,
     "metadata": {},
     "output_type": "execute_result"
    }
   ],
   "source": [
    "y = 'string'\n",
    "type(y)"
   ]
  },
  {
   "cell_type": "code",
   "execution_count": 4,
   "id": "a4175bc5",
   "metadata": {},
   "outputs": [
    {
     "data": {
      "text/plain": [
       "str"
      ]
     },
     "execution_count": 4,
     "metadata": {},
     "output_type": "execute_result"
    }
   ],
   "source": [
    "u = '9'\n",
    "type(u)"
   ]
  },
  {
   "cell_type": "markdown",
   "id": "c266d415",
   "metadata": {},
   "source": [
    "## Type Conversion\n",
    "- Convert one kind of data type into another kind of data type\n",
    "- String to integer -- int(str)\n",
    "- Integer to str -- str(int)\n",
    "- Float to str -- str(float)\n",
    "- String to float -- float(str)"
   ]
  },
  {
   "cell_type": "code",
   "execution_count": 8,
   "id": "bb76048e",
   "metadata": {},
   "outputs": [
    {
     "data": {
      "text/plain": [
       "int"
      ]
     },
     "execution_count": 8,
     "metadata": {},
     "output_type": "execute_result"
    }
   ],
   "source": [
    "u = '9'\n",
    "#print(int(u))\n",
    "n = int(u)   ## n = int('9'/str)\n",
    "type(n)"
   ]
  },
  {
   "cell_type": "code",
   "execution_count": 7,
   "id": "74955abb",
   "metadata": {},
   "outputs": [
    {
     "name": "stdout",
     "output_type": "stream",
     "text": [
      "9\n"
     ]
    }
   ],
   "source": [
    "u = '9'\n",
    "print(u)"
   ]
  },
  {
   "cell_type": "markdown",
   "id": "a4a856a2",
   "metadata": {},
   "source": [
    "## Keywords\n",
    "- We can call it as reserved words"
   ]
  },
  {
   "cell_type": "code",
   "execution_count": 14,
   "id": "22a856a5",
   "metadata": {},
   "outputs": [
    {
     "name": "stdout",
     "output_type": "stream",
     "text": [
      "['False', 'None', 'True', 'and', 'as', 'assert', 'async', 'await', 'break', 'class', 'continue', 'def', 'del', 'elif', 'else', 'except', 'finally', 'for', 'from', 'global', 'if', 'import', 'in', 'is', 'lambda', 'nonlocal', 'not', 'or', 'pass', 'raise', 'return', 'try', 'while', 'with', 'yield'] \n",
      "Count of keywords 35\n"
     ]
    }
   ],
   "source": [
    "import keyword as k\n",
    "print(k.kwlist,end=' ')\n",
    "print()\n",
    "print('Count of keywords',len(k.kwlist))"
   ]
  },
  {
   "cell_type": "markdown",
   "id": "ec5f5133",
   "metadata": {},
   "source": [
    "## Variables\n",
    "\n",
    "- To store values\n",
    "- 1.Varaible name should not starts with integer or float\n",
    "- 2.Varaible name should not starts with keywords names and predefined function names\n",
    "- 3. Should not starts with any special symbols \n",
    "    - It is acceptable '_'\n",
    "- 4. Don't mention any space in varaible name\n"
   ]
  },
  {
   "cell_type": "code",
   "execution_count": 15,
   "id": "f1fe796b",
   "metadata": {},
   "outputs": [
    {
     "name": "stdout",
     "output_type": "stream",
     "text": [
      "10\n",
      "45\n"
     ]
    }
   ],
   "source": [
    "n1 = 10\n",
    "n2 = 45\n",
    "print(n1)\n",
    "print(n2)"
   ]
  },
  {
   "cell_type": "code",
   "execution_count": 16,
   "id": "a5c18f0c",
   "metadata": {},
   "outputs": [
    {
     "ename": "SyntaxError",
     "evalue": "invalid syntax (<ipython-input-16-b9afc65db4ad>, line 1)",
     "output_type": "error",
     "traceback": [
      "\u001b[1;36m  File \u001b[1;32m\"<ipython-input-16-b9afc65db4ad>\"\u001b[1;36m, line \u001b[1;32m1\u001b[0m\n\u001b[1;33m    1n = 6\u001b[0m\n\u001b[1;37m     ^\u001b[0m\n\u001b[1;31mSyntaxError\u001b[0m\u001b[1;31m:\u001b[0m invalid syntax\n"
     ]
    }
   ],
   "source": [
    "1n = 6\n",
    "2n = 67\n",
    "print(1n)"
   ]
  },
  {
   "cell_type": "markdown",
   "id": "8bcff879",
   "metadata": {},
   "source": [
    "## Operators\n",
    "\n",
    "- To perform mathematical operations\n",
    "- Types of Operators:\n",
    "    - Arthimatic operators\n",
    "        - +,-,*,/,%,//,**\n",
    "    - Assignment operators\n",
    "        - =, +=, -=, *=, /=\n",
    "    - Relational operators\n",
    "        - <,>,<=,>=,==,!=\n",
    "    - Logical operators\n",
    "        - and, or, not\n",
    "    - Bitwise operators\n",
    "        - |, &, ^, <<, >>\n",
    "    - Membership operators\n",
    "        - in, not in\n",
    "    - Identity operators\n",
    "        - is, is not"
   ]
  },
  {
   "cell_type": "code",
   "execution_count": null,
   "id": "43aaae0b",
   "metadata": {},
   "outputs": [],
   "source": [
    "## To give numbers for line ---> shilf+l"
   ]
  },
  {
   "cell_type": "code",
   "execution_count": 17,
   "id": "45c4c31d",
   "metadata": {},
   "outputs": [
    {
     "name": "stdout",
     "output_type": "stream",
     "text": [
      "14\n",
      "6\n",
      "40\n",
      "2.5\n",
      "2\n",
      "2\n",
      "10000\n"
     ]
    }
   ],
   "source": [
    "a = 10\n",
    "b = 4\n",
    "print(a+b)\n",
    "print(a-b)\n",
    "print(a*b)\n",
    "print(a/b)\n",
    "print(a%b)\n",
    "print(a//b)\n",
    "print(a**b) ## 10**4\n"
   ]
  },
  {
   "cell_type": "code",
   "execution_count": 7,
   "id": "bb7a984f",
   "metadata": {},
   "outputs": [
    {
     "name": "stdout",
     "output_type": "stream",
     "text": [
      "40\n",
      "20\n",
      "400\n",
      "40.0\n"
     ]
    }
   ],
   "source": [
    "t = 20\n",
    "\n",
    "t += 20 ## t = t + 20\n",
    "print(t)\n",
    "t -= 20  ## t = 40 -20\n",
    "print(t)\n",
    "t *= 20\n",
    "print(t)\n",
    "t /= 10\n",
    "print(t)"
   ]
  },
  {
   "cell_type": "code",
   "execution_count": 9,
   "id": "622a03a8",
   "metadata": {},
   "outputs": [
    {
     "data": {
      "text/plain": [
       "10"
      ]
     },
     "execution_count": 9,
     "metadata": {},
     "output_type": "execute_result"
    }
   ],
   "source": [
    "a = 10\n",
    "b = 20\n",
    "a%b"
   ]
  },
  {
   "cell_type": "code",
   "execution_count": null,
   "id": "3e9fee8a",
   "metadata": {},
   "outputs": [],
   "source": [
    "10)20(1\n",
    "   10\n",
    "---------\n",
    "   10"
   ]
  },
  {
   "cell_type": "code",
   "execution_count": 10,
   "id": "953a660d",
   "metadata": {},
   "outputs": [
    {
     "data": {
      "text/plain": [
       "0.5"
      ]
     },
     "execution_count": 10,
     "metadata": {},
     "output_type": "execute_result"
    }
   ],
   "source": [
    "a/b  "
   ]
  },
  {
   "cell_type": "code",
   "execution_count": 17,
   "id": "80182f50",
   "metadata": {},
   "outputs": [
    {
     "name": "stdout",
     "output_type": "stream",
     "text": [
      "True\n",
      "False\n",
      "True\n",
      "False\n",
      "False\n",
      "True\n"
     ]
    }
   ],
   "source": [
    "## Relational operators\n",
    "\n",
    "a = 5\n",
    "h = 8\n",
    "print(a < h) ## 5 < 8\n",
    "print(a > h) ## 5 > 8\n",
    "print(a <= h)\n",
    "print(a >= h)\n",
    "print(a == h)\n",
    "print(a != h)"
   ]
  },
  {
   "cell_type": "code",
   "execution_count": 15,
   "id": "19d528b8",
   "metadata": {},
   "outputs": [
    {
     "name": "stdout",
     "output_type": "stream",
     "text": [
      "False\n",
      "True\n",
      "False\n",
      "True\n",
      "True\n"
     ]
    }
   ],
   "source": [
    "x = 34\n",
    "y = 34\n",
    "print(x < y)\n",
    "print(x <= y)\n",
    "print(x > y)\n",
    "print(x >= y)\n",
    "print(x == y)"
   ]
  },
  {
   "cell_type": "markdown",
   "id": "383a8430",
   "metadata": {},
   "source": [
    "## Logical operators\n",
    "\n",
    "and \n",
    "\n",
    "0 0 0\n",
    "0 1 0\n",
    "1 0 0\n",
    "1 1 1\n",
    "\n",
    "or\n",
    "\n",
    "0 0 0\n",
    "0 1 1\n",
    "1 0 1\n",
    "1 1 1\n",
    "\n",
    "not\n",
    "\n",
    "T F\n",
    "F T\n"
   ]
  },
  {
   "cell_type": "code",
   "execution_count": 21,
   "id": "bbdd3f78",
   "metadata": {},
   "outputs": [
    {
     "name": "stdout",
     "output_type": "stream",
     "text": [
      "False\n",
      "True\n",
      "True\n",
      "False\n"
     ]
    }
   ],
   "source": [
    "d = 10\n",
    "f = 15\n",
    "print(d < f and d > f) # 10 < 15 and 10 > 15\n",
    "print(d < f and f > d) # 10 < 15 and 15 > 10\n",
    "print(d < f or d > f)  # 10 < 15 or 10 > 15\n",
    "print(not(d < f or d > f))"
   ]
  },
  {
   "cell_type": "code",
   "execution_count": 24,
   "id": "78fbe9b6",
   "metadata": {},
   "outputs": [
    {
     "name": "stdout",
     "output_type": "stream",
     "text": [
      "2\n",
      "10\n",
      "8\n"
     ]
    }
   ],
   "source": [
    "## Bitwise operators\n",
    "\n",
    "r = 10          # 1 0 1 0\n",
    "s = 2           # 0 0 1 0\n",
    "print(r & s)    # 0 0 1 0\n",
    "print(r | s)    # 1 0 1 0\n",
    "print(r ^ s)"
   ]
  },
  {
   "cell_type": "code",
   "execution_count": 25,
   "id": "872047c9",
   "metadata": {},
   "outputs": [
    {
     "name": "stdout",
     "output_type": "stream",
     "text": [
      "20\n"
     ]
    }
   ],
   "source": [
    "e = 10\n",
    "print(e << 1)"
   ]
  },
  {
   "cell_type": "markdown",
   "id": "61f87e16",
   "metadata": {},
   "source": [
    "## Membership operators\n",
    "- in , not in"
   ]
  },
  {
   "cell_type": "code",
   "execution_count": 26,
   "id": "4ce9b497",
   "metadata": {},
   "outputs": [
    {
     "name": "stdout",
     "output_type": "stream",
     "text": [
      "False\n"
     ]
    }
   ],
   "source": [
    "n = 'swathi'\n",
    "print('y' in n)"
   ]
  },
  {
   "cell_type": "code",
   "execution_count": 27,
   "id": "7b49f634",
   "metadata": {},
   "outputs": [
    {
     "name": "stdout",
     "output_type": "stream",
     "text": [
      "True\n"
     ]
    }
   ],
   "source": [
    "print('h' in n)"
   ]
  },
  {
   "cell_type": "code",
   "execution_count": 28,
   "id": "13fa4a0d",
   "metadata": {},
   "outputs": [
    {
     "name": "stdout",
     "output_type": "stream",
     "text": [
      "False\n"
     ]
    }
   ],
   "source": [
    "print('i' not in n)"
   ]
  },
  {
   "cell_type": "markdown",
   "id": "ff0fa1bb",
   "metadata": {},
   "source": [
    "## Conditional Statements\n",
    "\n",
    "- if\n",
    "- if..else\n",
    "- if..else...elif\n",
    "- nested..if"
   ]
  },
  {
   "cell_type": "markdown",
   "id": "6b3959ae",
   "metadata": {},
   "source": [
    "Syntax for if:\n",
    "\n",
    "if(condition):\n",
    "    Statements/logic\n",
    "statements\n",
    "    "
   ]
  },
  {
   "cell_type": "code",
   "execution_count": 31,
   "id": "8650161c",
   "metadata": {},
   "outputs": [
    {
     "name": "stdout",
     "output_type": "stream",
     "text": [
      "Positive\n"
     ]
    }
   ],
   "source": [
    "## Check the given number is positve or not\n",
    "## Static way of programming\n",
    "\n",
    "n = 16\n",
    "if(n>0): ## 5>0\n",
    "    print('Positive')\n",
    "    "
   ]
  },
  {
   "cell_type": "code",
   "execution_count": 33,
   "id": "b5a03a09",
   "metadata": {},
   "outputs": [
    {
     "name": "stdout",
     "output_type": "stream",
     "text": [
      "enter a number: 789\n",
      "Positive number\n"
     ]
    }
   ],
   "source": [
    "## Dynamic way of programming\n",
    "\n",
    "n1 = int(input('enter a number: '))\n",
    "if n1 > 0:\n",
    "    print('Positive number')\n"
   ]
  },
  {
   "cell_type": "markdown",
   "id": "14a245e9",
   "metadata": {},
   "source": [
    "Syntax for if...else\n",
    "\n",
    "if(condition):\n",
    "    Statements/Logic\n",
    "else:\n",
    "    Statements/Logic\n",
    "    \n",
    "    "
   ]
  },
  {
   "cell_type": "code",
   "execution_count": 34,
   "id": "5c682def",
   "metadata": {},
   "outputs": [
    {
     "name": "stdout",
     "output_type": "stream",
     "text": [
      "enter number: -89\n",
      "The given number is Negative\n"
     ]
    }
   ],
   "source": [
    "## Check the given number is positive or negative\n",
    "\n",
    "var = int(input(\"enter number: \")) ## var = -89\n",
    "if(var > 0): ## -89 > 0\n",
    "    print('The given number is Positive')\n",
    "else:\n",
    "    print('The given number is Negative')\n"
   ]
  },
  {
   "cell_type": "code",
   "execution_count": 36,
   "id": "2fc63adf",
   "metadata": {},
   "outputs": [
    {
     "name": "stdout",
     "output_type": "stream",
     "text": [
      "45\n",
      "Odd\n"
     ]
    }
   ],
   "source": [
    "## Even or Odd\n",
    "\n",
    "h = int(input())\n",
    "if(h%2 == 0):\n",
    "    print('Even')\n",
    "else:\n",
    "    print('Odd')"
   ]
  },
  {
   "cell_type": "code",
   "execution_count": null,
   "id": "3c238218",
   "metadata": {},
   "outputs": [],
   "source": []
  },
  {
   "cell_type": "markdown",
   "id": "b5cd1b4b",
   "metadata": {},
   "source": [
    "## Check the given character is Vowel or Consonant"
   ]
  },
  {
   "cell_type": "code",
   "execution_count": 38,
   "id": "b28eab14",
   "metadata": {},
   "outputs": [
    {
     "name": "stdout",
     "output_type": "stream",
     "text": [
      "r\n",
      "Consonant\n"
     ]
    }
   ],
   "source": [
    "ch = input()\n",
    "if(ch == 'a' or ch == 'i' or ch == 'e' or ch == 'o' or ch == 'u' or ch=='A'\n",
    "   or ch=='E' or ch=='I' or ch=='O' or ch=='U'):\n",
    "    print('Vowel')\n",
    "else:\n",
    "    print('Consonant')"
   ]
  },
  {
   "cell_type": "code",
   "execution_count": 40,
   "id": "3dc80ed8",
   "metadata": {},
   "outputs": [
    {
     "name": "stdout",
     "output_type": "stream",
     "text": [
      "56\n",
      "Not Existed\n"
     ]
    }
   ],
   "source": [
    "## Number existed or not\n",
    "## input: 98, range 90 -- 100\n",
    "## output: Existed\n",
    "## output: 76, Not Existed\n",
    "\n",
    "num = int(input())\n",
    "if(num >= 90 and num <= 100):\n",
    "    print('Existed')\n",
    "else:\n",
    "    print('Not Existed')"
   ]
  },
  {
   "cell_type": "markdown",
   "id": "4ee48e8e",
   "metadata": {},
   "source": [
    "Syntax for if..else..elif:\n",
    "\n",
    "if(condition):\n",
    "    statements/logic\n",
    "elif(condition):\n",
    "    statements/logic\n",
    "elif(condition):\n",
    "    statements/logic\n",
    "    --\n",
    "    --\n",
    "    --\n",
    "else: \n",
    "    statements/logic"
   ]
  },
  {
   "cell_type": "code",
   "execution_count": null,
   "id": "2b8cffe1",
   "metadata": {},
   "outputs": [],
   "source": [
    "## Digit spelling\n",
    "## input: 7\n",
    "## OUtput: Seven\n",
    "## input: 4\n",
    "## ouput: Four\n",
    "\n",
    "k = int(input())\n",
    "if(k == 0):\n",
    "    print('Zero')\n",
    "elif(k == 1):\n",
    "    print('One')\n",
    "elif(k == 2):\n",
    "    print('Two')\n",
    "elif(k == 3):\n",
    "    print('Three')\n",
    "elif(k == 4):\n",
    "    print('Four')\n",
    "elif(k == 5):\n",
    "    print('Five')\n",
    "elif(k == 6):\n",
    "    print('Six')\n",
    "elif(k == 7):\n",
    "    print('Seven')\n",
    "elif(k == 8):\n",
    "    print('Eight')\n",
    "elif(k == 9):\n",
    "    print('Nine')\n",
    "else:\n",
    "    print('Invalid')\n"
   ]
  },
  {
   "cell_type": "markdown",
   "id": "98db74cc",
   "metadata": {},
   "source": [
    "## Tasks\n",
    "\n",
    "- 1. Pracitce Identity Operators\n",
    "- 2. Check the given character is Vowel or Consonant by using if..elif\n",
    "- 3. Print name of the day \n"
   ]
  },
  {
   "cell_type": "code",
   "execution_count": null,
   "id": "272c192d",
   "metadata": {},
   "outputs": [],
   "source": []
  },
  {
   "cell_type": "code",
   "execution_count": null,
   "id": "122a2f9c",
   "metadata": {},
   "outputs": [],
   "source": []
  },
  {
   "cell_type": "code",
   "execution_count": null,
   "id": "3adff9a4",
   "metadata": {},
   "outputs": [],
   "source": []
  },
  {
   "cell_type": "code",
   "execution_count": null,
   "id": "5339f0f4",
   "metadata": {},
   "outputs": [],
   "source": []
  },
  {
   "cell_type": "code",
   "execution_count": null,
   "id": "48e3f08d",
   "metadata": {},
   "outputs": [],
   "source": []
  }
 ],
 "metadata": {
  "kernelspec": {
   "display_name": "Python 3",
   "language": "python",
   "name": "python3"
  },
  "language_info": {
   "codemirror_mode": {
    "name": "ipython",
    "version": 3
   },
   "file_extension": ".py",
   "mimetype": "text/x-python",
   "name": "python",
   "nbconvert_exporter": "python",
   "pygments_lexer": "ipython3",
   "version": "3.8.8"
  }
 },
 "nbformat": 4,
 "nbformat_minor": 5
}
