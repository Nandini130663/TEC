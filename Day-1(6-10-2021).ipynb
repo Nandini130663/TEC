{
 "cells": [
  {
   "cell_type": "code",
   "execution_count": 1,
   "id": "800d569f",
   "metadata": {},
   "outputs": [
    {
     "name": "stdout",
     "output_type": "stream",
     "text": [
      "Good afternoon everyone\n"
     ]
    }
   ],
   "source": [
    "print('Good afternoon everyone')"
   ]
  },
  {
   "cell_type": "code",
   "execution_count": 2,
   "id": "75f2e2fe",
   "metadata": {},
   "outputs": [
    {
     "name": "stdout",
     "output_type": "stream",
     "text": [
      "APSSDC\n"
     ]
    }
   ],
   "source": [
    "print('APSSDC')"
   ]
  },
  {
   "cell_type": "markdown",
   "id": "e6a4ffe6",
   "metadata": {},
   "source": [
    "h1\n",
    "h2\n",
    "h3 \n",
    "h4\n",
    "h5\n",
    "h6"
   ]
  },
  {
   "cell_type": "markdown",
   "id": "f57d7583",
   "metadata": {},
   "source": [
    "# Heading1\n",
    "## Heading2\n",
    "### Heading3\n",
    "#### Heading4\n",
    "##### Heading5\n",
    "###### Heading6\n"
   ]
  },
  {
   "cell_type": "code",
   "execution_count": 6,
   "id": "0c646813",
   "metadata": {},
   "outputs": [
    {
     "name": "stdout",
     "output_type": "stream",
     "text": [
      "welcome\n",
      "hiii\n"
     ]
    }
   ],
   "source": [
    "print('welcome')\n",
    "'''print('Good evening')\n",
    "print('Good bye')\n",
    "print('hello world')'''\n",
    "print('hiii')"
   ]
  },
  {
   "cell_type": "markdown",
   "id": "50fc16a9",
   "metadata": {},
   "source": [
    "## Operators"
   ]
  },
  {
   "cell_type": "code",
   "execution_count": 7,
   "id": "9de2372d",
   "metadata": {},
   "outputs": [
    {
     "name": "stdout",
     "output_type": "stream",
     "text": [
      "enter a number: 23\n",
      "enter another number: 2\n",
      "25\n",
      "21\n",
      "46\n",
      "11.5\n",
      "11\n",
      "1\n",
      "529\n"
     ]
    }
   ],
   "source": [
    "n1 = int(input('enter a number: '))\n",
    "n2 = int(input('enter another number: '))\n",
    "print(n1+n2)\n",
    "print(n1-n2)\n",
    "print(n1*n2)\n",
    "print(n1/n2)\n",
    "print(n1//n2)\n",
    "print(n1%n2)\n",
    "print(n1**n2)"
   ]
  },
  {
   "cell_type": "code",
   "execution_count": 11,
   "id": "aae3b188",
   "metadata": {},
   "outputs": [
    {
     "name": "stdout",
     "output_type": "stream",
     "text": [
      "6\n",
      "2\n",
      "8\n",
      "4.0\n"
     ]
    }
   ],
   "source": [
    "## =, +=, -=, *=, /=\n",
    "\n",
    "n1 = 4\n",
    "n1 += 2  ## n1 = n1 + 2\n",
    "print(n1)\n",
    "n1 -= 4\n",
    "print(n1) ## 6 - 4\n",
    "n1 *= 4\n",
    "print(n1) ## n1 = n1*4\n",
    "n1 /= 2\n",
    "print(n1)\n",
    "\n"
   ]
  },
  {
   "cell_type": "code",
   "execution_count": 17,
   "id": "bb9718fb",
   "metadata": {},
   "outputs": [
    {
     "name": "stdout",
     "output_type": "stream",
     "text": [
      "True\n",
      "False\n",
      "True\n",
      "False\n",
      "False\n"
     ]
    }
   ],
   "source": [
    "## <, >, <=, >=, ==\n",
    "\n",
    "a = 10\n",
    "b = 20\n",
    "print(a<b) ## 10 < 20\n",
    "print(a>b)  ## 10 > 20\n",
    "print(a<=b)  ## 10 <= 20\n",
    "print(a>=b)\n",
    "print(a == b)"
   ]
  },
  {
   "cell_type": "code",
   "execution_count": 18,
   "id": "7808c3bc",
   "metadata": {},
   "outputs": [
    {
     "name": "stdout",
     "output_type": "stream",
     "text": [
      "False\n",
      "True\n",
      "True\n"
     ]
    }
   ],
   "source": [
    "t = 10\n",
    "r = 10\n",
    "print(t<r) ## 10 < 10\n",
    "print(t<=r) \n",
    "print(t == r)"
   ]
  },
  {
   "cell_type": "markdown",
   "id": "1959fa37",
   "metadata": {},
   "source": [
    "and \n",
    "\n",
    "0  0  0\n",
    "0  1  0\n",
    "1  0  0\n",
    "1  1  1\n",
    "\n",
    "or\n",
    "\n",
    "0 0 0\n",
    "0 1 1\n",
    "1 0 1\n",
    "1 1 1\n",
    "\n",
    "not \n",
    "\n",
    "1 0\n",
    "0 1\n"
   ]
  },
  {
   "cell_type": "code",
   "execution_count": 21,
   "id": "9f38bb8a",
   "metadata": {},
   "outputs": [
    {
     "name": "stdout",
     "output_type": "stream",
     "text": [
      "False\n",
      "True\n",
      "False\n"
     ]
    }
   ],
   "source": [
    "## Logical -- and, or, not\n",
    "\n",
    "a = 5\n",
    "b = 9\n",
    "print(a < b and a > b ) # 5<9 and 5>9 \n",
    "print(a <b or a > b)\n",
    "print(not(a <b or a > b))"
   ]
  },
  {
   "cell_type": "code",
   "execution_count": 23,
   "id": "45ece7d9",
   "metadata": {},
   "outputs": [
    {
     "name": "stdout",
     "output_type": "stream",
     "text": [
      "False\n",
      "True\n"
     ]
    }
   ],
   "source": [
    "## Membership --- in, not in\n",
    "\n",
    "n = 'nandini'\n",
    "print('z' in n)\n",
    "print('n' in n)"
   ]
  },
  {
   "cell_type": "code",
   "execution_count": 24,
   "id": "d930be17",
   "metadata": {},
   "outputs": [
    {
     "name": "stdout",
     "output_type": "stream",
     "text": [
      "False\n"
     ]
    }
   ],
   "source": [
    "h = 'hello'\n",
    "print('e' not in h)"
   ]
  },
  {
   "cell_type": "code",
   "execution_count": 27,
   "id": "a7035934",
   "metadata": {},
   "outputs": [
    {
     "name": "stdout",
     "output_type": "stream",
     "text": [
      "2\n",
      "10\n",
      "8\n"
     ]
    }
   ],
   "source": [
    "## Bitwise -- | & ^\n",
    "\n",
    "a = 10  ## 1 0 1 0\n",
    "b = 2 ##   0 0 1 0\n",
    "print(a & b) ## 0 0 1 0\n",
    "print(a | b) ## 1 0 1 0\n",
    "print(a ^ b) "
   ]
  },
  {
   "cell_type": "code",
   "execution_count": 29,
   "id": "b3acbfbf",
   "metadata": {},
   "outputs": [
    {
     "name": "stdout",
     "output_type": "stream",
     "text": [
      "20\n"
     ]
    }
   ],
   "source": [
    "## <<, >>\n",
    "\n",
    "a = 10\n",
    "b = 2\n",
    "print(10<<1)"
   ]
  },
  {
   "cell_type": "code",
   "execution_count": null,
   "id": "1652ed5a",
   "metadata": {},
   "outputs": [],
   "source": []
  }
 ],
 "metadata": {
  "kernelspec": {
   "display_name": "Python 3",
   "language": "python",
   "name": "python3"
  },
  "language_info": {
   "codemirror_mode": {
    "name": "ipython",
    "version": 3
   },
   "file_extension": ".py",
   "mimetype": "text/x-python",
   "name": "python",
   "nbconvert_exporter": "python",
   "pygments_lexer": "ipython3",
   "version": "3.8.8"
  }
 },
 "nbformat": 4,
 "nbformat_minor": 5
}
